{
 "cells": [
  {
   "cell_type": "code",
   "execution_count": 1,
   "id": "7ee27c5d",
   "metadata": {},
   "outputs": [],
   "source": [
    "import pandas as pd\n",
    "import numpy as np\n",
    "import matplotlib.pyplot as plt\n",
    "import seaborn as sns"
   ]
  },
  {
   "cell_type": "code",
   "execution_count": 2,
   "id": "7c056863",
   "metadata": {},
   "outputs": [],
   "source": [
    "user_data = pd.read_json('ultimate_data_challenge.json')"
   ]
  },
  {
   "cell_type": "code",
   "execution_count": 3,
   "id": "64aaba4b",
   "metadata": {},
   "outputs": [
    {
     "data": {
      "text/plain": [
       "50000"
      ]
     },
     "execution_count": 3,
     "metadata": {},
     "output_type": "execute_result"
    }
   ],
   "source": [
    "len(user_data)"
   ]
  },
  {
   "cell_type": "code",
   "execution_count": 4,
   "id": "f8e152ed",
   "metadata": {},
   "outputs": [
    {
     "data": {
      "text/html": [
       "<div>\n",
       "<style scoped>\n",
       "    .dataframe tbody tr th:only-of-type {\n",
       "        vertical-align: middle;\n",
       "    }\n",
       "\n",
       "    .dataframe tbody tr th {\n",
       "        vertical-align: top;\n",
       "    }\n",
       "\n",
       "    .dataframe thead th {\n",
       "        text-align: right;\n",
       "    }\n",
       "</style>\n",
       "<table border=\"1\" class=\"dataframe\">\n",
       "  <thead>\n",
       "    <tr style=\"text-align: right;\">\n",
       "      <th></th>\n",
       "      <th>city</th>\n",
       "      <th>trips_in_first_30_days</th>\n",
       "      <th>signup_date</th>\n",
       "      <th>avg_rating_of_driver</th>\n",
       "      <th>avg_surge</th>\n",
       "      <th>last_trip_date</th>\n",
       "      <th>phone</th>\n",
       "      <th>surge_pct</th>\n",
       "      <th>ultimate_black_user</th>\n",
       "      <th>weekday_pct</th>\n",
       "      <th>avg_dist</th>\n",
       "      <th>avg_rating_by_driver</th>\n",
       "    </tr>\n",
       "  </thead>\n",
       "  <tbody>\n",
       "    <tr>\n",
       "      <th>0</th>\n",
       "      <td>King's Landing</td>\n",
       "      <td>4</td>\n",
       "      <td>2014-01-25</td>\n",
       "      <td>4.7</td>\n",
       "      <td>1.10</td>\n",
       "      <td>2014-06-17</td>\n",
       "      <td>iPhone</td>\n",
       "      <td>15.4</td>\n",
       "      <td>True</td>\n",
       "      <td>46.2</td>\n",
       "      <td>3.67</td>\n",
       "      <td>5.0</td>\n",
       "    </tr>\n",
       "    <tr>\n",
       "      <th>1</th>\n",
       "      <td>Astapor</td>\n",
       "      <td>0</td>\n",
       "      <td>2014-01-29</td>\n",
       "      <td>5.0</td>\n",
       "      <td>1.00</td>\n",
       "      <td>2014-05-05</td>\n",
       "      <td>Android</td>\n",
       "      <td>0.0</td>\n",
       "      <td>False</td>\n",
       "      <td>50.0</td>\n",
       "      <td>8.26</td>\n",
       "      <td>5.0</td>\n",
       "    </tr>\n",
       "    <tr>\n",
       "      <th>2</th>\n",
       "      <td>Astapor</td>\n",
       "      <td>3</td>\n",
       "      <td>2014-01-06</td>\n",
       "      <td>4.3</td>\n",
       "      <td>1.00</td>\n",
       "      <td>2014-01-07</td>\n",
       "      <td>iPhone</td>\n",
       "      <td>0.0</td>\n",
       "      <td>False</td>\n",
       "      <td>100.0</td>\n",
       "      <td>0.77</td>\n",
       "      <td>5.0</td>\n",
       "    </tr>\n",
       "    <tr>\n",
       "      <th>3</th>\n",
       "      <td>King's Landing</td>\n",
       "      <td>9</td>\n",
       "      <td>2014-01-10</td>\n",
       "      <td>4.6</td>\n",
       "      <td>1.14</td>\n",
       "      <td>2014-06-29</td>\n",
       "      <td>iPhone</td>\n",
       "      <td>20.0</td>\n",
       "      <td>True</td>\n",
       "      <td>80.0</td>\n",
       "      <td>2.36</td>\n",
       "      <td>4.9</td>\n",
       "    </tr>\n",
       "    <tr>\n",
       "      <th>4</th>\n",
       "      <td>Winterfell</td>\n",
       "      <td>14</td>\n",
       "      <td>2014-01-27</td>\n",
       "      <td>4.4</td>\n",
       "      <td>1.19</td>\n",
       "      <td>2014-03-15</td>\n",
       "      <td>Android</td>\n",
       "      <td>11.8</td>\n",
       "      <td>False</td>\n",
       "      <td>82.4</td>\n",
       "      <td>3.13</td>\n",
       "      <td>4.9</td>\n",
       "    </tr>\n",
       "  </tbody>\n",
       "</table>\n",
       "</div>"
      ],
      "text/plain": [
       "             city  trips_in_first_30_days signup_date  avg_rating_of_driver  \\\n",
       "0  King's Landing                       4  2014-01-25                   4.7   \n",
       "1         Astapor                       0  2014-01-29                   5.0   \n",
       "2         Astapor                       3  2014-01-06                   4.3   \n",
       "3  King's Landing                       9  2014-01-10                   4.6   \n",
       "4      Winterfell                      14  2014-01-27                   4.4   \n",
       "\n",
       "   avg_surge last_trip_date    phone  surge_pct  ultimate_black_user  \\\n",
       "0       1.10     2014-06-17   iPhone       15.4                 True   \n",
       "1       1.00     2014-05-05  Android        0.0                False   \n",
       "2       1.00     2014-01-07   iPhone        0.0                False   \n",
       "3       1.14     2014-06-29   iPhone       20.0                 True   \n",
       "4       1.19     2014-03-15  Android       11.8                False   \n",
       "\n",
       "   weekday_pct  avg_dist  avg_rating_by_driver  \n",
       "0         46.2      3.67                   5.0  \n",
       "1         50.0      8.26                   5.0  \n",
       "2        100.0      0.77                   5.0  \n",
       "3         80.0      2.36                   4.9  \n",
       "4         82.4      3.13                   4.9  "
      ]
     },
     "execution_count": 4,
     "metadata": {},
     "output_type": "execute_result"
    }
   ],
   "source": [
    "user_data.head()"
   ]
  },
  {
   "cell_type": "code",
   "execution_count": 5,
   "id": "a892a994",
   "metadata": {},
   "outputs": [
    {
     "data": {
      "text/plain": [
       "array([\"King's Landing\", 'Astapor', 'Winterfell'], dtype=object)"
      ]
     },
     "execution_count": 5,
     "metadata": {},
     "output_type": "execute_result"
    }
   ],
   "source": [
    "# Checking whether our service operates solely in Westeros\n",
    "user_data.city.unique()"
   ]
  },
  {
   "cell_type": "code",
   "execution_count": 6,
   "id": "4588fc40",
   "metadata": {},
   "outputs": [
    {
     "data": {
      "text/plain": [
       "Index(['city', 'trips_in_first_30_days', 'signup_date', 'avg_rating_of_driver',\n",
       "       'avg_surge', 'last_trip_date', 'phone', 'surge_pct',\n",
       "       'ultimate_black_user', 'weekday_pct', 'avg_dist',\n",
       "       'avg_rating_by_driver'],\n",
       "      dtype='object')"
      ]
     },
     "execution_count": 6,
     "metadata": {},
     "output_type": "execute_result"
    }
   ],
   "source": [
    "# For easy reference\n",
    "user_data.columns"
   ]
  },
  {
   "cell_type": "code",
   "execution_count": 7,
   "id": "0580cf74",
   "metadata": {},
   "outputs": [
    {
     "data": {
      "text/plain": [
       "city                       object\n",
       "trips_in_first_30_days      int64\n",
       "signup_date                object\n",
       "avg_rating_of_driver      float64\n",
       "avg_surge                 float64\n",
       "last_trip_date             object\n",
       "phone                      object\n",
       "surge_pct                 float64\n",
       "ultimate_black_user          bool\n",
       "weekday_pct               float64\n",
       "avg_dist                  float64\n",
       "avg_rating_by_driver      float64\n",
       "dtype: object"
      ]
     },
     "execution_count": 7,
     "metadata": {},
     "output_type": "execute_result"
    }
   ],
   "source": [
    "user_data.dtypes"
   ]
  },
  {
   "cell_type": "code",
   "execution_count": 8,
   "id": "1ebc9d55",
   "metadata": {},
   "outputs": [],
   "source": [
    "# Change the dates from strings to datetimes\n",
    "user_data['signup_date'] = pd.to_datetime(user_data['signup_date'])\n",
    "user_data['last_trip_date'] = pd.to_datetime(user_data['last_trip_date'])"
   ]
  },
  {
   "cell_type": "code",
   "execution_count": 9,
   "id": "fceeb751",
   "metadata": {},
   "outputs": [
    {
     "data": {
      "text/html": [
       "<div>\n",
       "<style scoped>\n",
       "    .dataframe tbody tr th:only-of-type {\n",
       "        vertical-align: middle;\n",
       "    }\n",
       "\n",
       "    .dataframe tbody tr th {\n",
       "        vertical-align: top;\n",
       "    }\n",
       "\n",
       "    .dataframe thead th {\n",
       "        text-align: right;\n",
       "    }\n",
       "</style>\n",
       "<table border=\"1\" class=\"dataframe\">\n",
       "  <thead>\n",
       "    <tr style=\"text-align: right;\">\n",
       "      <th></th>\n",
       "      <th>trips_in_first_30_days</th>\n",
       "      <th>signup_date</th>\n",
       "      <th>avg_rating_of_driver</th>\n",
       "      <th>avg_surge</th>\n",
       "      <th>last_trip_date</th>\n",
       "      <th>surge_pct</th>\n",
       "      <th>weekday_pct</th>\n",
       "      <th>avg_dist</th>\n",
       "      <th>avg_rating_by_driver</th>\n",
       "    </tr>\n",
       "  </thead>\n",
       "  <tbody>\n",
       "    <tr>\n",
       "      <th>count</th>\n",
       "      <td>50000.000000</td>\n",
       "      <td>50000</td>\n",
       "      <td>41878.000000</td>\n",
       "      <td>50000.000000</td>\n",
       "      <td>50000</td>\n",
       "      <td>50000.000000</td>\n",
       "      <td>50000.000000</td>\n",
       "      <td>50000.000000</td>\n",
       "      <td>49799.000000</td>\n",
       "    </tr>\n",
       "    <tr>\n",
       "      <th>mean</th>\n",
       "      <td>2.278200</td>\n",
       "      <td>2014-01-16 13:04:20.352000</td>\n",
       "      <td>4.601559</td>\n",
       "      <td>1.074764</td>\n",
       "      <td>2014-04-19 08:02:04.992000256</td>\n",
       "      <td>8.849536</td>\n",
       "      <td>60.926084</td>\n",
       "      <td>5.796827</td>\n",
       "      <td>4.778158</td>\n",
       "    </tr>\n",
       "    <tr>\n",
       "      <th>min</th>\n",
       "      <td>0.000000</td>\n",
       "      <td>2014-01-01 00:00:00</td>\n",
       "      <td>1.000000</td>\n",
       "      <td>1.000000</td>\n",
       "      <td>2014-01-01 00:00:00</td>\n",
       "      <td>0.000000</td>\n",
       "      <td>0.000000</td>\n",
       "      <td>0.000000</td>\n",
       "      <td>1.000000</td>\n",
       "    </tr>\n",
       "    <tr>\n",
       "      <th>25%</th>\n",
       "      <td>0.000000</td>\n",
       "      <td>2014-01-09 00:00:00</td>\n",
       "      <td>4.300000</td>\n",
       "      <td>1.000000</td>\n",
       "      <td>2014-02-14 00:00:00</td>\n",
       "      <td>0.000000</td>\n",
       "      <td>33.300000</td>\n",
       "      <td>2.420000</td>\n",
       "      <td>4.700000</td>\n",
       "    </tr>\n",
       "    <tr>\n",
       "      <th>50%</th>\n",
       "      <td>1.000000</td>\n",
       "      <td>2014-01-17 00:00:00</td>\n",
       "      <td>4.900000</td>\n",
       "      <td>1.000000</td>\n",
       "      <td>2014-05-08 00:00:00</td>\n",
       "      <td>0.000000</td>\n",
       "      <td>66.700000</td>\n",
       "      <td>3.880000</td>\n",
       "      <td>5.000000</td>\n",
       "    </tr>\n",
       "    <tr>\n",
       "      <th>75%</th>\n",
       "      <td>3.000000</td>\n",
       "      <td>2014-01-24 00:00:00</td>\n",
       "      <td>5.000000</td>\n",
       "      <td>1.050000</td>\n",
       "      <td>2014-06-18 00:00:00</td>\n",
       "      <td>8.600000</td>\n",
       "      <td>100.000000</td>\n",
       "      <td>6.940000</td>\n",
       "      <td>5.000000</td>\n",
       "    </tr>\n",
       "    <tr>\n",
       "      <th>max</th>\n",
       "      <td>125.000000</td>\n",
       "      <td>2014-01-31 00:00:00</td>\n",
       "      <td>5.000000</td>\n",
       "      <td>8.000000</td>\n",
       "      <td>2014-07-01 00:00:00</td>\n",
       "      <td>100.000000</td>\n",
       "      <td>100.000000</td>\n",
       "      <td>160.960000</td>\n",
       "      <td>5.000000</td>\n",
       "    </tr>\n",
       "    <tr>\n",
       "      <th>std</th>\n",
       "      <td>3.792684</td>\n",
       "      <td>NaN</td>\n",
       "      <td>0.617338</td>\n",
       "      <td>0.222336</td>\n",
       "      <td>NaN</td>\n",
       "      <td>19.958811</td>\n",
       "      <td>37.081503</td>\n",
       "      <td>5.707357</td>\n",
       "      <td>0.446652</td>\n",
       "    </tr>\n",
       "  </tbody>\n",
       "</table>\n",
       "</div>"
      ],
      "text/plain": [
       "       trips_in_first_30_days                 signup_date  \\\n",
       "count            50000.000000                       50000   \n",
       "mean                 2.278200  2014-01-16 13:04:20.352000   \n",
       "min                  0.000000         2014-01-01 00:00:00   \n",
       "25%                  0.000000         2014-01-09 00:00:00   \n",
       "50%                  1.000000         2014-01-17 00:00:00   \n",
       "75%                  3.000000         2014-01-24 00:00:00   \n",
       "max                125.000000         2014-01-31 00:00:00   \n",
       "std                  3.792684                         NaN   \n",
       "\n",
       "       avg_rating_of_driver     avg_surge                 last_trip_date  \\\n",
       "count          41878.000000  50000.000000                          50000   \n",
       "mean               4.601559      1.074764  2014-04-19 08:02:04.992000256   \n",
       "min                1.000000      1.000000            2014-01-01 00:00:00   \n",
       "25%                4.300000      1.000000            2014-02-14 00:00:00   \n",
       "50%                4.900000      1.000000            2014-05-08 00:00:00   \n",
       "75%                5.000000      1.050000            2014-06-18 00:00:00   \n",
       "max                5.000000      8.000000            2014-07-01 00:00:00   \n",
       "std                0.617338      0.222336                            NaN   \n",
       "\n",
       "          surge_pct   weekday_pct      avg_dist  avg_rating_by_driver  \n",
       "count  50000.000000  50000.000000  50000.000000          49799.000000  \n",
       "mean       8.849536     60.926084      5.796827              4.778158  \n",
       "min        0.000000      0.000000      0.000000              1.000000  \n",
       "25%        0.000000     33.300000      2.420000              4.700000  \n",
       "50%        0.000000     66.700000      3.880000              5.000000  \n",
       "75%        8.600000    100.000000      6.940000              5.000000  \n",
       "max      100.000000    100.000000    160.960000              5.000000  \n",
       "std       19.958811     37.081503      5.707357              0.446652  "
      ]
     },
     "execution_count": 9,
     "metadata": {},
     "output_type": "execute_result"
    }
   ],
   "source": [
    "user_data.describe()"
   ]
  },
  {
   "cell_type": "code",
   "execution_count": 10,
   "id": "002efc44",
   "metadata": {},
   "outputs": [
    {
     "data": {
      "text/plain": [
       "city                         0\n",
       "trips_in_first_30_days       0\n",
       "signup_date                  0\n",
       "avg_rating_of_driver      8122\n",
       "avg_surge                    0\n",
       "last_trip_date               0\n",
       "phone                      396\n",
       "surge_pct                    0\n",
       "ultimate_black_user          0\n",
       "weekday_pct                  0\n",
       "avg_dist                     0\n",
       "avg_rating_by_driver       201\n",
       "dtype: int64"
      ]
     },
     "execution_count": 10,
     "metadata": {},
     "output_type": "execute_result"
    }
   ],
   "source": [
    "# Check for missing values\n",
    "user_data.isna().sum()"
   ]
  },
  {
   "cell_type": "code",
   "execution_count": 11,
   "id": "a7e8dded",
   "metadata": {},
   "outputs": [],
   "source": [
    "# Replace null values for phones with the word \"None\"\n",
    "user_data['phone'] = user_data['phone'].fillna('None')"
   ]
  },
  {
   "cell_type": "code",
   "execution_count": 12,
   "id": "5a7102ab",
   "metadata": {},
   "outputs": [
    {
     "data": {
      "text/plain": [
       "city                         0\n",
       "trips_in_first_30_days       0\n",
       "signup_date                  0\n",
       "avg_rating_of_driver      8122\n",
       "avg_surge                    0\n",
       "last_trip_date               0\n",
       "phone                        0\n",
       "surge_pct                    0\n",
       "ultimate_black_user          0\n",
       "weekday_pct                  0\n",
       "avg_dist                     0\n",
       "avg_rating_by_driver       201\n",
       "dtype: int64"
      ]
     },
     "execution_count": 12,
     "metadata": {},
     "output_type": "execute_result"
    }
   ],
   "source": [
    "user_data.isna().sum()"
   ]
  },
  {
   "cell_type": "code",
   "execution_count": 13,
   "id": "e3202a19",
   "metadata": {},
   "outputs": [],
   "source": [
    "# Automate pie chart creation\n",
    "def pie_chart(feature=None,title=None,df=user_data):\n",
    "    '''Create a pie chart of a categorical feature from dataframe'''\n",
    "    if not feature:\n",
    "        raise Exception(\"No feature chosen\")\n",
    "    values = df[feature].unique()\n",
    "    counts = []\n",
    "    for value in values:\n",
    "        counts.append(len(df[df[feature] == value]))\n",
    "    if sum(counts) != len(df):\n",
    "        raise Exception('Some data is missing')\n",
    "    plt.pie(counts, labels=values,autopct='%1.1f%%')\n",
    "    if not title:\n",
    "        title = \"Users' \" + feature\n",
    "    plt.title(title)\n",
    "    plt.show()"
   ]
  },
  {
   "cell_type": "code",
   "execution_count": 14,
   "id": "a7879152",
   "metadata": {},
   "outputs": [
    {
     "data": {
      "image/png": "[encoded data removed]",
      "text/plain": [
       "<Figure size 640x480 with 1 Axes>"
      ]
     },
     "metadata": {},
     "output_type": "display_data"
    }
   ],
   "source": [
    "pie_chart('phone',\"Users' phone brands\")"
   ]
  },
  {
   "cell_type": "code",
   "execution_count": 15,
   "id": "45a1725a",
   "metadata": {},
   "outputs": [
    {
     "data": {
      "image/png": "[encoded data removed]",
      "text/plain": [
       "<Figure size 640x480 with 1 Axes>"
      ]
     },
     "metadata": {},
     "output_type": "display_data"
    }
   ],
   "source": [
    "pie_chart('city')"
   ]
  },
  {
   "cell_type": "code",
   "execution_count": 16,
   "id": "955c887f",
   "metadata": {},
   "outputs": [
    {
     "data": {
      "image/png": "[encoded data removed]",
      "text/plain": [
       "<Figure size 640x480 with 1 Axes>"
      ]
     },
     "metadata": {},
     "output_type": "display_data"
    }
   ],
   "source": [
    "pie_chart('ultimate_black_user',\"Ultimate Black Users\")"
   ]
  },
  {
   "cell_type": "code",
   "execution_count": 17,
   "id": "fa4a26eb",
   "metadata": {},
   "outputs": [],
   "source": [
    "# For ease of calculations, since a month isn't always 30 days but all of our users signed up in January\n",
    "user_data['six_months'] = user_data['signup_date'].apply(lambda x: pd.to_datetime('{}-07-{}'.format(x.year,x.day)))"
   ]
  },
  {
   "cell_type": "code",
   "execution_count": 18,
   "id": "814bd67a",
   "metadata": {},
   "outputs": [],
   "source": [
    "# Find our target feature: Whether a user has taken a ride within 30 days after 6 months\n",
    "user_data['active'] = user_data['six_months'] - user_data['last_trip_date'] < pd.Timedelta('30 days')"
   ]
  },
  {
   "cell_type": "code",
   "execution_count": 19,
   "id": "8ade6759",
   "metadata": {},
   "outputs": [
    {
     "data": {
      "image/png": "[encoded data removed]",
      "text/plain": [
       "<Figure size 640x480 with 1 Axes>"
      ]
     },
     "metadata": {},
     "output_type": "display_data"
    }
   ],
   "source": [
    "# Check proportion of active users\n",
    "pie_chart('active','Active users')"
   ]
  },
  {
   "cell_type": "code",
   "execution_count": 20,
   "id": "8db137f9",
   "metadata": {},
   "outputs": [],
   "source": [
    "user_data = user_data.fillna(0)"
   ]
  },
  {
   "cell_type": "code",
   "execution_count": 21,
   "id": "8e758028",
   "metadata": {},
   "outputs": [],
   "source": [
    "active_users = user_data[user_data['active']]\n",
    "inactive_users = user_data[user_data['active'] == False]"
   ]
  },
  {
   "cell_type": "code",
   "execution_count": 22,
   "id": "26aef553",
   "metadata": {},
   "outputs": [
    {
     "data": {
      "text/html": [
       "<div>\n",
       "<style scoped>\n",
       "    .dataframe tbody tr th:only-of-type {\n",
       "        vertical-align: middle;\n",
       "    }\n",
       "\n",
       "    .dataframe tbody tr th {\n",
       "        vertical-align: top;\n",
       "    }\n",
       "\n",
       "    .dataframe thead th {\n",
       "        text-align: right;\n",
       "    }\n",
       "</style>\n",
       "<table border=\"1\" class=\"dataframe\">\n",
       "  <thead>\n",
       "    <tr style=\"text-align: right;\">\n",
       "      <th></th>\n",
       "      <th>trips_in_first_30_days</th>\n",
       "      <th>signup_date</th>\n",
       "      <th>avg_rating_of_driver</th>\n",
       "      <th>avg_surge</th>\n",
       "      <th>last_trip_date</th>\n",
       "      <th>surge_pct</th>\n",
       "      <th>weekday_pct</th>\n",
       "      <th>avg_dist</th>\n",
       "      <th>avg_rating_by_driver</th>\n",
       "      <th>six_months</th>\n",
       "    </tr>\n",
       "  </thead>\n",
       "  <tbody>\n",
       "    <tr>\n",
       "      <th>count</th>\n",
       "      <td>11694.000000</td>\n",
       "      <td>11694</td>\n",
       "      <td>11694.000000</td>\n",
       "      <td>11694.000000</td>\n",
       "      <td>11694</td>\n",
       "      <td>11694.000000</td>\n",
       "      <td>11694.000000</td>\n",
       "      <td>11694.000000</td>\n",
       "      <td>11694.000000</td>\n",
       "      <td>11694</td>\n",
       "    </tr>\n",
       "    <tr>\n",
       "      <th>mean</th>\n",
       "      <td>3.672824</td>\n",
       "      <td>2014-01-12 11:56:18.347870720</td>\n",
       "      <td>4.268505</td>\n",
       "      <td>1.077237</td>\n",
       "      <td>2014-06-24 11:25:09.081580288</td>\n",
       "      <td>9.484676</td>\n",
       "      <td>61.232307</td>\n",
       "      <td>4.866582</td>\n",
       "      <td>4.752771</td>\n",
       "      <td>2014-07-12 11:56:18.347870720</td>\n",
       "    </tr>\n",
       "    <tr>\n",
       "      <th>min</th>\n",
       "      <td>0.000000</td>\n",
       "      <td>2014-01-01 00:00:00</td>\n",
       "      <td>0.000000</td>\n",
       "      <td>1.000000</td>\n",
       "      <td>2014-06-02 00:00:00</td>\n",
       "      <td>0.000000</td>\n",
       "      <td>0.000000</td>\n",
       "      <td>0.000000</td>\n",
       "      <td>0.000000</td>\n",
       "      <td>2014-07-01 00:00:00</td>\n",
       "    </tr>\n",
       "    <tr>\n",
       "      <th>25%</th>\n",
       "      <td>0.000000</td>\n",
       "      <td>2014-01-06 00:00:00</td>\n",
       "      <td>4.200000</td>\n",
       "      <td>1.000000</td>\n",
       "      <td>2014-06-21 00:00:00</td>\n",
       "      <td>0.000000</td>\n",
       "      <td>45.500000</td>\n",
       "      <td>2.540000</td>\n",
       "      <td>4.600000</td>\n",
       "      <td>2014-07-06 00:00:00</td>\n",
       "    </tr>\n",
       "    <tr>\n",
       "      <th>50%</th>\n",
       "      <td>2.000000</td>\n",
       "      <td>2014-01-11 00:00:00</td>\n",
       "      <td>4.700000</td>\n",
       "      <td>1.020000</td>\n",
       "      <td>2014-06-27 00:00:00</td>\n",
       "      <td>3.300000</td>\n",
       "      <td>63.600000</td>\n",
       "      <td>3.640000</td>\n",
       "      <td>4.800000</td>\n",
       "      <td>2014-07-11 00:00:00</td>\n",
       "    </tr>\n",
       "    <tr>\n",
       "      <th>75%</th>\n",
       "      <td>5.000000</td>\n",
       "      <td>2014-01-18 00:00:00</td>\n",
       "      <td>5.000000</td>\n",
       "      <td>1.100000</td>\n",
       "      <td>2014-06-29 00:00:00</td>\n",
       "      <td>14.300000</td>\n",
       "      <td>81.800000</td>\n",
       "      <td>5.510000</td>\n",
       "      <td>5.000000</td>\n",
       "      <td>2014-07-18 00:00:00</td>\n",
       "    </tr>\n",
       "    <tr>\n",
       "      <th>max</th>\n",
       "      <td>125.000000</td>\n",
       "      <td>2014-01-30 00:00:00</td>\n",
       "      <td>5.000000</td>\n",
       "      <td>4.500000</td>\n",
       "      <td>2014-07-01 00:00:00</td>\n",
       "      <td>100.000000</td>\n",
       "      <td>100.000000</td>\n",
       "      <td>160.960000</td>\n",
       "      <td>5.000000</td>\n",
       "      <td>2014-07-30 00:00:00</td>\n",
       "    </tr>\n",
       "    <tr>\n",
       "      <th>std</th>\n",
       "      <td>5.445392</td>\n",
       "      <td>NaN</td>\n",
       "      <td>1.277904</td>\n",
       "      <td>0.163581</td>\n",
       "      <td>NaN</td>\n",
       "      <td>15.042752</td>\n",
       "      <td>28.019978</td>\n",
       "      <td>4.363650</td>\n",
       "      <td>0.357874</td>\n",
       "      <td>NaN</td>\n",
       "    </tr>\n",
       "  </tbody>\n",
       "</table>\n",
       "</div>"
      ],
      "text/plain": [
       "       trips_in_first_30_days                    signup_date  \\\n",
       "count            11694.000000                          11694   \n",
       "mean                 3.672824  2014-01-12 11:56:18.347870720   \n",
       "min                  0.000000            2014-01-01 00:00:00   \n",
       "25%                  0.000000            2014-01-06 00:00:00   \n",
       "50%                  2.000000            2014-01-11 00:00:00   \n",
       "75%                  5.000000            2014-01-18 00:00:00   \n",
       "max                125.000000            2014-01-30 00:00:00   \n",
       "std                  5.445392                            NaN   \n",
       "\n",
       "       avg_rating_of_driver     avg_surge                 last_trip_date  \\\n",
       "count          11694.000000  11694.000000                          11694   \n",
       "mean               4.268505      1.077237  2014-06-24 11:25:09.081580288   \n",
       "min                0.000000      1.000000            2014-06-02 00:00:00   \n",
       "25%                4.200000      1.000000            2014-06-21 00:00:00   \n",
       "50%                4.700000      1.020000            2014-06-27 00:00:00   \n",
       "75%                5.000000      1.100000            2014-06-29 00:00:00   \n",
       "max                5.000000      4.500000            2014-07-01 00:00:00   \n",
       "std                1.277904      0.163581                            NaN   \n",
       "\n",
       "          surge_pct   weekday_pct      avg_dist  avg_rating_by_driver  \\\n",
       "count  11694.000000  11694.000000  11694.000000          11694.000000   \n",
       "mean       9.484676     61.232307      4.866582              4.752771   \n",
       "min        0.000000      0.000000      0.000000              0.000000   \n",
       "25%        0.000000     45.500000      2.540000              4.600000   \n",
       "50%        3.300000     63.600000      3.640000              4.800000   \n",
       "75%       14.300000     81.800000      5.510000              5.000000   \n",
       "max      100.000000    100.000000    160.960000              5.000000   \n",
       "std       15.042752     28.019978      4.363650              0.357874   \n",
       "\n",
       "                          six_months  \n",
       "count                          11694  \n",
       "mean   2014-07-12 11:56:18.347870720  \n",
       "min              2014-07-01 00:00:00  \n",
       "25%              2014-07-06 00:00:00  \n",
       "50%              2014-07-11 00:00:00  \n",
       "75%              2014-07-18 00:00:00  \n",
       "max              2014-07-30 00:00:00  \n",
       "std                              NaN  "
      ]
     },
     "execution_count": 22,
     "metadata": {},
     "output_type": "execute_result"
    }
   ],
   "source": [
    "active_users.describe()"
   ]
  },
  {
   "cell_type": "code",
   "execution_count": 23,
   "id": "838db91f",
   "metadata": {},
   "outputs": [
    {
     "data": {
      "text/html": [
       "<div>\n",
       "<style scoped>\n",
       "    .dataframe tbody tr th:only-of-type {\n",
       "        vertical-align: middle;\n",
       "    }\n",
       "\n",
       "    .dataframe tbody tr th {\n",
       "        vertical-align: top;\n",
       "    }\n",
       "\n",
       "    .dataframe thead th {\n",
       "        text-align: right;\n",
       "    }\n",
       "</style>\n",
       "<table border=\"1\" class=\"dataframe\">\n",
       "  <thead>\n",
       "    <tr style=\"text-align: right;\">\n",
       "      <th></th>\n",
       "      <th>trips_in_first_30_days</th>\n",
       "      <th>signup_date</th>\n",
       "      <th>avg_rating_of_driver</th>\n",
       "      <th>avg_surge</th>\n",
       "      <th>last_trip_date</th>\n",
       "      <th>surge_pct</th>\n",
       "      <th>weekday_pct</th>\n",
       "      <th>avg_dist</th>\n",
       "      <th>avg_rating_by_driver</th>\n",
       "      <th>six_months</th>\n",
       "    </tr>\n",
       "  </thead>\n",
       "  <tbody>\n",
       "    <tr>\n",
       "      <th>count</th>\n",
       "      <td>38306.000000</td>\n",
       "      <td>38306</td>\n",
       "      <td>38306.000000</td>\n",
       "      <td>38306.000000</td>\n",
       "      <td>38306</td>\n",
       "      <td>38306.000000</td>\n",
       "      <td>38306.000000</td>\n",
       "      <td>38306.000000</td>\n",
       "      <td>38306.000000</td>\n",
       "      <td>38306</td>\n",
       "    </tr>\n",
       "    <tr>\n",
       "      <th>mean</th>\n",
       "      <td>1.852451</td>\n",
       "      <td>2014-01-17 18:43:30.765937408</td>\n",
       "      <td>3.727567</td>\n",
       "      <td>1.074009</td>\n",
       "      <td>2014-03-30 03:26:25.067613440</td>\n",
       "      <td>8.655641</td>\n",
       "      <td>60.832601</td>\n",
       "      <td>6.080810</td>\n",
       "      <td>4.760836</td>\n",
       "      <td>2014-07-17 18:43:30.765937408</td>\n",
       "    </tr>\n",
       "    <tr>\n",
       "      <th>min</th>\n",
       "      <td>0.000000</td>\n",
       "      <td>2014-01-01 00:00:00</td>\n",
       "      <td>0.000000</td>\n",
       "      <td>1.000000</td>\n",
       "      <td>2014-01-01 00:00:00</td>\n",
       "      <td>0.000000</td>\n",
       "      <td>0.000000</td>\n",
       "      <td>0.000000</td>\n",
       "      <td>0.000000</td>\n",
       "      <td>2014-07-01 00:00:00</td>\n",
       "    </tr>\n",
       "    <tr>\n",
       "      <th>25%</th>\n",
       "      <td>0.000000</td>\n",
       "      <td>2014-01-11 00:00:00</td>\n",
       "      <td>3.700000</td>\n",
       "      <td>1.000000</td>\n",
       "      <td>2014-01-30 00:00:00</td>\n",
       "      <td>0.000000</td>\n",
       "      <td>25.000000</td>\n",
       "      <td>2.370000</td>\n",
       "      <td>4.800000</td>\n",
       "      <td>2014-07-11 00:00:00</td>\n",
       "    </tr>\n",
       "    <tr>\n",
       "      <th>50%</th>\n",
       "      <td>1.000000</td>\n",
       "      <td>2014-01-18 00:00:00</td>\n",
       "      <td>4.700000</td>\n",
       "      <td>1.000000</td>\n",
       "      <td>2014-04-02 00:00:00</td>\n",
       "      <td>0.000000</td>\n",
       "      <td>66.700000</td>\n",
       "      <td>4.000000</td>\n",
       "      <td>5.000000</td>\n",
       "      <td>2014-07-18 00:00:00</td>\n",
       "    </tr>\n",
       "    <tr>\n",
       "      <th>75%</th>\n",
       "      <td>2.000000</td>\n",
       "      <td>2014-01-25 00:00:00</td>\n",
       "      <td>5.000000</td>\n",
       "      <td>1.000000</td>\n",
       "      <td>2014-05-23 00:00:00</td>\n",
       "      <td>0.000000</td>\n",
       "      <td>100.000000</td>\n",
       "      <td>7.520000</td>\n",
       "      <td>5.000000</td>\n",
       "      <td>2014-07-25 00:00:00</td>\n",
       "    </tr>\n",
       "    <tr>\n",
       "      <th>max</th>\n",
       "      <td>73.000000</td>\n",
       "      <td>2014-01-31 00:00:00</td>\n",
       "      <td>5.000000</td>\n",
       "      <td>8.000000</td>\n",
       "      <td>2014-07-01 00:00:00</td>\n",
       "      <td>100.000000</td>\n",
       "      <td>100.000000</td>\n",
       "      <td>129.890000</td>\n",
       "      <td>5.000000</td>\n",
       "      <td>2014-07-31 00:00:00</td>\n",
       "    </tr>\n",
       "    <tr>\n",
       "      <th>std</th>\n",
       "      <td>2.991508</td>\n",
       "      <td>NaN</td>\n",
       "      <td>1.900027</td>\n",
       "      <td>0.237390</td>\n",
       "      <td>NaN</td>\n",
       "      <td>21.230399</td>\n",
       "      <td>39.434950</td>\n",
       "      <td>6.029998</td>\n",
       "      <td>0.582721</td>\n",
       "      <td>NaN</td>\n",
       "    </tr>\n",
       "  </tbody>\n",
       "</table>\n",
       "</div>"
      ],
      "text/plain": [
       "       trips_in_first_30_days                    signup_date  \\\n",
       "count            38306.000000                          38306   \n",
       "mean                 1.852451  2014-01-17 18:43:30.765937408   \n",
       "min                  0.000000            2014-01-01 00:00:00   \n",
       "25%                  0.000000            2014-01-11 00:00:00   \n",
       "50%                  1.000000            2014-01-18 00:00:00   \n",
       "75%                  2.000000            2014-01-25 00:00:00   \n",
       "max                 73.000000            2014-01-31 00:00:00   \n",
       "std                  2.991508                            NaN   \n",
       "\n",
       "       avg_rating_of_driver     avg_surge                 last_trip_date  \\\n",
       "count          38306.000000  38306.000000                          38306   \n",
       "mean               3.727567      1.074009  2014-03-30 03:26:25.067613440   \n",
       "min                0.000000      1.000000            2014-01-01 00:00:00   \n",
       "25%                3.700000      1.000000            2014-01-30 00:00:00   \n",
       "50%                4.700000      1.000000            2014-04-02 00:00:00   \n",
       "75%                5.000000      1.000000            2014-05-23 00:00:00   \n",
       "max                5.000000      8.000000            2014-07-01 00:00:00   \n",
       "std                1.900027      0.237390                            NaN   \n",
       "\n",
       "          surge_pct   weekday_pct      avg_dist  avg_rating_by_driver  \\\n",
       "count  38306.000000  38306.000000  38306.000000          38306.000000   \n",
       "mean       8.655641     60.832601      6.080810              4.760836   \n",
       "min        0.000000      0.000000      0.000000              0.000000   \n",
       "25%        0.000000     25.000000      2.370000              4.800000   \n",
       "50%        0.000000     66.700000      4.000000              5.000000   \n",
       "75%        0.000000    100.000000      7.520000              5.000000   \n",
       "max      100.000000    100.000000    129.890000              5.000000   \n",
       "std       21.230399     39.434950      6.029998              0.582721   \n",
       "\n",
       "                          six_months  \n",
       "count                          38306  \n",
       "mean   2014-07-17 18:43:30.765937408  \n",
       "min              2014-07-01 00:00:00  \n",
       "25%              2014-07-11 00:00:00  \n",
       "50%              2014-07-18 00:00:00  \n",
       "75%              2014-07-25 00:00:00  \n",
       "max              2014-07-31 00:00:00  \n",
       "std                              NaN  "
      ]
     },
     "execution_count": 23,
     "metadata": {},
     "output_type": "execute_result"
    }
   ],
   "source": [
    "inactive_users.describe()"
   ]
  },
  {
   "cell_type": "code",
   "execution_count": 24,
   "id": "98b720a9",
   "metadata": {},
   "outputs": [],
   "source": [
    "from sklearn.model_selection import train_test_split, RandomizedSearchCV\n",
    "from sklearn.tree import DecisionTreeClassifier, plot_tree\n",
    "from sklearn.metrics import classification_report"
   ]
  },
  {
   "cell_type": "code",
   "execution_count": 25,
   "id": "73db621d",
   "metadata": {},
   "outputs": [
    {
     "data": {
      "text/plain": [
       "Index(['city', 'trips_in_first_30_days', 'signup_date', 'avg_rating_of_driver',\n",
       "       'avg_surge', 'last_trip_date', 'phone', 'surge_pct',\n",
       "       'ultimate_black_user', 'weekday_pct', 'avg_dist',\n",
       "       'avg_rating_by_driver', 'six_months', 'active'],\n",
       "      dtype='object')"
      ]
     },
     "execution_count": 25,
     "metadata": {},
     "output_type": "execute_result"
    }
   ],
   "source": [
    "user_data.columns"
   ]
  },
  {
   "cell_type": "code",
   "execution_count": 26,
   "id": "5e95cf58",
   "metadata": {},
   "outputs": [],
   "source": [
    "X_columns = ['city', 'trips_in_first_30_days', 'avg_rating_of_driver',\n",
    "       'avg_surge', 'phone', 'surge_pct',\n",
    "       'ultimate_black_user', 'weekday_pct', 'avg_dist',\n",
    "       'avg_rating_by_driver']\n",
    "X = user_data[X_columns]\n",
    "y = user_data['active']\n",
    "X = pd.get_dummies(X)"
   ]
  },
  {
   "cell_type": "code",
   "execution_count": 27,
   "id": "76dbaab7",
   "metadata": {},
   "outputs": [],
   "source": [
    "X_train, X_test, y_train, y_test = train_test_split(X, y, test_size=0.2, random_state=42)"
   ]
  },
  {
   "cell_type": "code",
   "execution_count": 28,
   "id": "d1c8876b",
   "metadata": {},
   "outputs": [],
   "source": [
    "tree = DecisionTreeClassifier(random_state=42)"
   ]
  },
  {
   "cell_type": "code",
   "execution_count": 29,
   "id": "19aa9ba3",
   "metadata": {},
   "outputs": [],
   "source": [
    "clf = RandomizedSearchCV(tree, {'criterion':['gini','entropy','log_loss'],'max_depth': [None, 6,7,8,9,10,11],'max_features': [None,1,2,3,4,5]},error_score=\"raise\",scoring='f1',random_state=42,verbose=3)"
   ]
  },
  {
   "cell_type": "code",
   "execution_count": 30,
   "id": "eb5833fd",
   "metadata": {},
   "outputs": [
    {
     "name": "stdout",
     "output_type": "stream",
     "text": [
      "Fitting 5 folds for each of 10 candidates, totalling 50 fits\n",
      "[CV 1/5] END criterion=entropy, max_depth=10, max_features=1;, score=0.426 total time=   0.0s\n",
      "[CV 2/5] END criterion=entropy, max_depth=10, max_features=1;, score=0.433 total time=   0.0s\n",
      "[CV 3/5] END criterion=entropy, max_depth=10, max_features=1;, score=0.374 total time=   0.0s\n",
      "[CV 4/5] END criterion=entropy, max_depth=10, max_features=1;, score=0.462 total time=   0.0s\n",
      "[CV 5/5] END criterion=entropy, max_depth=10, max_features=1;, score=0.465 total time=   0.0s\n",
      "[CV 1/5] END criterion=gini, max_depth=8, max_features=1;, score=0.314 total time=   0.0s\n",
      "[CV 2/5] END criterion=gini, max_depth=8, max_features=1;, score=0.374 total time=   0.0s\n",
      "[CV 3/5] END criterion=gini, max_depth=8, max_features=1;, score=0.418 total time=   0.0s\n",
      "[CV 4/5] END criterion=gini, max_depth=8, max_features=1;, score=0.343 total time=   0.0s\n",
      "[CV 5/5] END criterion=gini, max_depth=8, max_features=1;, score=0.452 total time=   0.0s\n",
      "[CV 1/5] END criterion=log_loss, max_depth=10, max_features=2;, score=0.443 total time=   0.0s\n",
      "[CV 2/5] END criterion=log_loss, max_depth=10, max_features=2;, score=0.459 total time=   0.0s\n",
      "[CV 3/5] END criterion=log_loss, max_depth=10, max_features=2;, score=0.409 total time=   0.0s\n",
      "[CV 4/5] END criterion=log_loss, max_depth=10, max_features=2;, score=0.380 total time=   0.0s\n",
      "[CV 5/5] END criterion=log_loss, max_depth=10, max_features=2;, score=0.454 total time=   0.0s\n",
      "[CV 1/5] END criterion=entropy, max_depth=9, max_features=1;, score=0.332 total time=   0.0s\n",
      "[CV 2/5] END criterion=entropy, max_depth=9, max_features=1;, score=0.368 total time=   0.0s\n",
      "[CV 3/5] END criterion=entropy, max_depth=9, max_features=1;, score=0.353 total time=   0.0s\n",
      "[CV 4/5] END criterion=entropy, max_depth=9, max_features=1;, score=0.336 total time=   0.0s\n",
      "[CV 5/5] END criterion=entropy, max_depth=9, max_features=1;, score=0.456 total time=   0.0s\n",
      "[CV 1/5] END criterion=log_loss, max_depth=6, max_features=4;, score=0.435 total time=   0.0s\n",
      "[CV 2/5] END criterion=log_loss, max_depth=6, max_features=4;, score=0.324 total time=   0.0s\n",
      "[CV 3/5] END criterion=log_loss, max_depth=6, max_features=4;, score=0.427 total time=   0.0s\n",
      "[CV 4/5] END criterion=log_loss, max_depth=6, max_features=4;, score=0.300 total time=   0.0s\n",
      "[CV 5/5] END criterion=log_loss, max_depth=6, max_features=4;, score=0.429 total time=   0.0s\n",
      "[CV 1/5] END criterion=entropy, max_depth=10, max_features=5;, score=0.480 total time=   0.0s\n",
      "[CV 2/5] END criterion=entropy, max_depth=10, max_features=5;, score=0.462 total time=   0.0s\n",
      "[CV 3/5] END criterion=entropy, max_depth=10, max_features=5;, score=0.463 total time=   0.0s\n",
      "[CV 4/5] END criterion=entropy, max_depth=10, max_features=5;, score=0.450 total time=   0.0s\n",
      "[CV 5/5] END criterion=entropy, max_depth=10, max_features=5;, score=0.494 total time=   0.0s\n",
      "[CV 1/5] END criterion=gini, max_depth=10, max_features=1;, score=0.415 total time=   0.0s\n",
      "[CV 2/5] END criterion=gini, max_depth=10, max_features=1;, score=0.468 total time=   0.0s\n",
      "[CV 3/5] END criterion=gini, max_depth=10, max_features=1;, score=0.418 total time=   0.0s\n",
      "[CV 4/5] END criterion=gini, max_depth=10, max_features=1;, score=0.357 total time=   0.0s\n",
      "[CV 5/5] END criterion=gini, max_depth=10, max_features=1;, score=0.466 total time=   0.0s\n",
      "[CV 1/5] END criterion=entropy, max_depth=6, max_features=5;, score=0.391 total time=   0.0s\n",
      "[CV 2/5] END criterion=entropy, max_depth=6, max_features=5;, score=0.420 total time=   0.0s\n",
      "[CV 3/5] END criterion=entropy, max_depth=6, max_features=5;, score=0.338 total time=   0.0s\n",
      "[CV 4/5] END criterion=entropy, max_depth=6, max_features=5;, score=0.391 total time=   0.0s\n",
      "[CV 5/5] END criterion=entropy, max_depth=6, max_features=5;, score=0.408 total time=   0.0s\n",
      "[CV 1/5] END criterion=log_loss, max_depth=10, max_features=3;, score=0.412 total time=   0.0s\n",
      "[CV 2/5] END criterion=log_loss, max_depth=10, max_features=3;, score=0.471 total time=   0.0s\n",
      "[CV 3/5] END criterion=log_loss, max_depth=10, max_features=3;, score=0.422 total time=   0.0s\n",
      "[CV 4/5] END criterion=log_loss, max_depth=10, max_features=3;, score=0.442 total time=   0.0s\n",
      "[CV 5/5] END criterion=log_loss, max_depth=10, max_features=3;, score=0.419 total time=   0.0s\n",
      "[CV 1/5] END criterion=entropy, max_depth=None, max_features=2;, score=0.426 total time=   0.0s\n",
      "[CV 2/5] END criterion=entropy, max_depth=None, max_features=2;, score=0.430 total time=   0.0s\n",
      "[CV 3/5] END criterion=entropy, max_depth=None, max_features=2;, score=0.408 total time=   0.0s\n",
      "[CV 4/5] END criterion=entropy, max_depth=None, max_features=2;, score=0.428 total time=   0.0s\n",
      "[CV 5/5] END criterion=entropy, max_depth=None, max_features=2;, score=0.410 total time=   0.0s\n"
     ]
    }
   ],
   "source": [
    "search = clf.fit(X_train,y_train)"
   ]
  },
  {
   "cell_type": "code",
   "execution_count": 31,
   "id": "f168dfa0",
   "metadata": {},
   "outputs": [
    {
     "data": {
      "text/plain": [
       "{'max_features': 5, 'max_depth': 10, 'criterion': 'entropy'}"
      ]
     },
     "execution_count": 31,
     "metadata": {},
     "output_type": "execute_result"
    }
   ],
   "source": [
    "search.best_params_"
   ]
  },
  {
   "cell_type": "code",
   "execution_count": 32,
   "id": "93667515",
   "metadata": {},
   "outputs": [
    {
     "data": {
      "text/plain": [
       "0.4698466817450079"
      ]
     },
     "execution_count": 32,
     "metadata": {},
     "output_type": "execute_result"
    }
   ],
   "source": [
    "search.best_score_"
   ]
  },
  {
   "cell_type": "code",
   "execution_count": 33,
   "id": "9053fde0",
   "metadata": {},
   "outputs": [],
   "source": [
    "best_tree = DecisionTreeClassifier(max_features=5,max_depth=10,criterion='entropy',random_state=42)"
   ]
  },
  {
   "cell_type": "code",
   "execution_count": 34,
   "id": "3baf4a52",
   "metadata": {},
   "outputs": [],
   "source": [
    "best_tree = best_tree.fit(X_train,y_train)"
   ]
  },
  {
   "cell_type": "code",
   "execution_count": 35,
   "id": "0020e573",
   "metadata": {},
   "outputs": [],
   "source": [
    "tree_predictions = best_tree.predict(X_test)"
   ]
  },
  {
   "cell_type": "code",
   "execution_count": 36,
   "id": "622c2adb",
   "metadata": {},
   "outputs": [
    {
     "data": {
      "text/plain": [
       "33553     True\n",
       "9427      True\n",
       "199      False\n",
       "12447    False\n",
       "39489    False\n",
       "         ...  \n",
       "28567    False\n",
       "25079    False\n",
       "18707    False\n",
       "15200     True\n",
       "5857     False\n",
       "Name: active, Length: 10000, dtype: bool"
      ]
     },
     "execution_count": 36,
     "metadata": {},
     "output_type": "execute_result"
    }
   ],
   "source": [
    "y_test"
   ]
  },
  {
   "cell_type": "code",
   "execution_count": 37,
   "id": "43aa01f5",
   "metadata": {},
   "outputs": [
    {
     "name": "stdout",
     "output_type": "stream",
     "text": [
      "              precision    recall  f1-score   support\n",
      "\n",
      "       False       0.92      0.83      0.87      8483\n",
      "        True       0.38      0.60      0.47      1517\n",
      "\n",
      "    accuracy                           0.79     10000\n",
      "   macro avg       0.65      0.71      0.67     10000\n",
      "weighted avg       0.84      0.79      0.81     10000\n",
      "\n"
     ]
    }
   ],
   "source": [
    "print(classification_report(tree_predictions,y_test))"
   ]
  },
  {
   "cell_type": "code",
   "execution_count": 38,
   "id": "63c913ef",
   "metadata": {},
   "outputs": [],
   "source": [
    "from sklearn.model_selection import GridSearchCV"
   ]
  },
  {
   "cell_type": "code",
   "execution_count": 39,
   "id": "f3d6192f",
   "metadata": {},
   "outputs": [],
   "source": [
    "clf = RandomizedSearchCV(tree, {'criterion':['gini','entropy','log_loss'],'max_depth': [None, 6,7,8,9,10,11],'max_features': [None,1,2,3,4,5]},error_score=\"raise\",scoring='f1',random_state=42,verbose=3)"
   ]
  },
  {
   "cell_type": "code",
   "execution_count": 40,
   "id": "7728744a",
   "metadata": {},
   "outputs": [
    {
     "name": "stdout",
     "output_type": "stream",
     "text": [
      "Fitting 5 folds for each of 10 candidates, totalling 50 fits\n",
      "[CV 1/5] END criterion=entropy, max_depth=10, max_features=1;, score=0.426 total time=   0.0s\n",
      "[CV 2/5] END criterion=entropy, max_depth=10, max_features=1;, score=0.433 total time=   0.0s\n",
      "[CV 3/5] END criterion=entropy, max_depth=10, max_features=1;, score=0.374 total time=   0.0s\n",
      "[CV 4/5] END criterion=entropy, max_depth=10, max_features=1;, score=0.462 total time=   0.0s\n",
      "[CV 5/5] END criterion=entropy, max_depth=10, max_features=1;, score=0.465 total time=   0.0s\n",
      "[CV 1/5] END criterion=gini, max_depth=8, max_features=1;, score=0.314 total time=   0.0s\n",
      "[CV 2/5] END criterion=gini, max_depth=8, max_features=1;, score=0.374 total time=   0.0s\n",
      "[CV 3/5] END criterion=gini, max_depth=8, max_features=1;, score=0.418 total time=   0.0s\n",
      "[CV 4/5] END criterion=gini, max_depth=8, max_features=1;, score=0.343 total time=   0.0s\n",
      "[CV 5/5] END criterion=gini, max_depth=8, max_features=1;, score=0.452 total time=   0.0s\n",
      "[CV 1/5] END criterion=log_loss, max_depth=10, max_features=2;, score=0.443 total time=   0.0s\n",
      "[CV 2/5] END criterion=log_loss, max_depth=10, max_features=2;, score=0.459 total time=   0.0s\n",
      "[CV 3/5] END criterion=log_loss, max_depth=10, max_features=2;, score=0.409 total time=   0.0s\n",
      "[CV 4/5] END criterion=log_loss, max_depth=10, max_features=2;, score=0.380 total time=   0.0s\n",
      "[CV 5/5] END criterion=log_loss, max_depth=10, max_features=2;, score=0.454 total time=   0.0s\n",
      "[CV 1/5] END criterion=entropy, max_depth=9, max_features=1;, score=0.332 total time=   0.0s\n",
      "[CV 2/5] END criterion=entropy, max_depth=9, max_features=1;, score=0.368 total time=   0.0s\n",
      "[CV 3/5] END criterion=entropy, max_depth=9, max_features=1;, score=0.353 total time=   0.0s\n",
      "[CV 4/5] END criterion=entropy, max_depth=9, max_features=1;, score=0.336 total time=   0.0s\n",
      "[CV 5/5] END criterion=entropy, max_depth=9, max_features=1;, score=0.456 total time=   0.0s\n",
      "[CV 1/5] END criterion=log_loss, max_depth=6, max_features=4;, score=0.435 total time=   0.0s\n",
      "[CV 2/5] END criterion=log_loss, max_depth=6, max_features=4;, score=0.324 total time=   0.0s\n",
      "[CV 3/5] END criterion=log_loss, max_depth=6, max_features=4;, score=0.427 total time=   0.0s\n",
      "[CV 4/5] END criterion=log_loss, max_depth=6, max_features=4;, score=0.300 total time=   0.0s\n",
      "[CV 5/5] END criterion=log_loss, max_depth=6, max_features=4;, score=0.429 total time=   0.0s\n",
      "[CV 1/5] END criterion=entropy, max_depth=10, max_features=5;, score=0.480 total time=   0.0s\n",
      "[CV 2/5] END criterion=entropy, max_depth=10, max_features=5;, score=0.462 total time=   0.0s\n",
      "[CV 3/5] END criterion=entropy, max_depth=10, max_features=5;, score=0.463 total time=   0.0s\n",
      "[CV 4/5] END criterion=entropy, max_depth=10, max_features=5;, score=0.450 total time=   0.0s\n",
      "[CV 5/5] END criterion=entropy, max_depth=10, max_features=5;, score=0.494 total time=   0.0s\n",
      "[CV 1/5] END criterion=gini, max_depth=10, max_features=1;, score=0.415 total time=   0.0s\n",
      "[CV 2/5] END criterion=gini, max_depth=10, max_features=1;, score=0.468 total time=   0.0s\n",
      "[CV 3/5] END criterion=gini, max_depth=10, max_features=1;, score=0.418 total time=   0.0s\n",
      "[CV 4/5] END criterion=gini, max_depth=10, max_features=1;, score=0.357 total time=   0.0s\n",
      "[CV 5/5] END criterion=gini, max_depth=10, max_features=1;, score=0.466 total time=   0.0s\n",
      "[CV 1/5] END criterion=entropy, max_depth=6, max_features=5;, score=0.391 total time=   0.0s\n",
      "[CV 2/5] END criterion=entropy, max_depth=6, max_features=5;, score=0.420 total time=   0.0s\n",
      "[CV 3/5] END criterion=entropy, max_depth=6, max_features=5;, score=0.338 total time=   0.0s\n",
      "[CV 4/5] END criterion=entropy, max_depth=6, max_features=5;, score=0.391 total time=   0.0s\n",
      "[CV 5/5] END criterion=entropy, max_depth=6, max_features=5;, score=0.408 total time=   0.0s\n",
      "[CV 1/5] END criterion=log_loss, max_depth=10, max_features=3;, score=0.412 total time=   0.0s\n",
      "[CV 2/5] END criterion=log_loss, max_depth=10, max_features=3;, score=0.471 total time=   0.0s\n",
      "[CV 3/5] END criterion=log_loss, max_depth=10, max_features=3;, score=0.422 total time=   0.0s\n",
      "[CV 4/5] END criterion=log_loss, max_depth=10, max_features=3;, score=0.442 total time=   0.0s\n",
      "[CV 5/5] END criterion=log_loss, max_depth=10, max_features=3;, score=0.419 total time=   0.0s\n",
      "[CV 1/5] END criterion=entropy, max_depth=None, max_features=2;, score=0.426 total time=   0.0s\n",
      "[CV 2/5] END criterion=entropy, max_depth=None, max_features=2;, score=0.430 total time=   0.0s\n",
      "[CV 3/5] END criterion=entropy, max_depth=None, max_features=2;, score=0.408 total time=   0.0s\n",
      "[CV 4/5] END criterion=entropy, max_depth=None, max_features=2;, score=0.428 total time=   0.0s\n",
      "[CV 5/5] END criterion=entropy, max_depth=None, max_features=2;, score=0.410 total time=   0.0s\n"
     ]
    }
   ],
   "source": [
    "search = clf.fit(X_train, y_train)"
   ]
  },
  {
   "cell_type": "code",
   "execution_count": 41,
   "id": "e2c03b96",
   "metadata": {},
   "outputs": [
    {
     "data": {
      "text/plain": [
       "{'max_features': 5, 'max_depth': 10, 'criterion': 'entropy'}"
      ]
     },
     "execution_count": 41,
     "metadata": {},
     "output_type": "execute_result"
    }
   ],
   "source": [
    "search.best_params_"
   ]
  },
  {
   "cell_type": "code",
   "execution_count": 42,
   "id": "028f2c78",
   "metadata": {},
   "outputs": [],
   "source": [
    "grid_tree = DecisionTreeClassifier(criterion='gini',max_depth=8,max_features=None)"
   ]
  },
  {
   "cell_type": "code",
   "execution_count": 43,
   "id": "c404eb49",
   "metadata": {},
   "outputs": [
    {
     "data": {
      "text/html": [
       "<style>#sk-container-id-1 {color: black;background-color: white;}#sk-container-id-1 pre{padding: 0;}#sk-container-id-1 div.sk-toggleable {background-color: white;}#sk-container-id-1 label.sk-toggleable__label {cursor: pointer;display: block;width: 100%;margin-bottom: 0;padding: 0.3em;box-sizing: border-box;text-align: center;}#sk-container-id-1 label.sk-toggleable__label-arrow:before {content: \"▸\";float: left;margin-right: 0.25em;color: #696969;}#sk-container-id-1 label.sk-toggleable__label-arrow:hover:before {color: black;}#sk-container-id-1 div.sk-estimator:hover label.sk-toggleable__label-arrow:before {color: black;}#sk-container-id-1 div.sk-toggleable__content {max-height: 0;max-width: 0;overflow: hidden;text-align: left;background-color: #f0f8ff;}#sk-container-id-1 div.sk-toggleable__content pre {margin: 0.2em;color: black;border-radius: 0.25em;background-color: #f0f8ff;}#sk-container-id-1 input.sk-toggleable__control:checked~div.sk-toggleable__content {max-height: 200px;max-width: 100%;overflow: auto;}#sk-container-id-1 input.sk-toggleable__control:checked~label.sk-toggleable__label-arrow:before {content: \"▾\";}#sk-container-id-1 div.sk-estimator input.sk-toggleable__control:checked~label.sk-toggleable__label {background-color: #d4ebff;}#sk-container-id-1 div.sk-label input.sk-toggleable__control:checked~label.sk-toggleable__label {background-color: #d4ebff;}#sk-container-id-1 input.sk-hidden--visually {border: 0;clip: rect(1px 1px 1px 1px);clip: rect(1px, 1px, 1px, 1px);height: 1px;margin: -1px;overflow: hidden;padding: 0;position: absolute;width: 1px;}#sk-container-id-1 div.sk-estimator {font-family: monospace;background-color: #f0f8ff;border: 1px dotted black;border-radius: 0.25em;box-sizing: border-box;margin-bottom: 0.5em;}#sk-container-id-1 div.sk-estimator:hover {background-color: #d4ebff;}#sk-container-id-1 div.sk-parallel-item::after {content: \"\";width: 100%;border-bottom: 1px solid gray;flex-grow: 1;}#sk-container-id-1 div.sk-label:hover label.sk-toggleable__label {background-color: #d4ebff;}#sk-container-id-1 div.sk-serial::before {content: \"\";position: absolute;border-left: 1px solid gray;box-sizing: border-box;top: 0;bottom: 0;left: 50%;z-index: 0;}#sk-container-id-1 div.sk-serial {display: flex;flex-direction: column;align-items: center;background-color: white;padding-right: 0.2em;padding-left: 0.2em;position: relative;}#sk-container-id-1 div.sk-item {position: relative;z-index: 1;}#sk-container-id-1 div.sk-parallel {display: flex;align-items: stretch;justify-content: center;background-color: white;position: relative;}#sk-container-id-1 div.sk-item::before, #sk-container-id-1 div.sk-parallel-item::before {content: \"\";position: absolute;border-left: 1px solid gray;box-sizing: border-box;top: 0;bottom: 0;left: 50%;z-index: -1;}#sk-container-id-1 div.sk-parallel-item {display: flex;flex-direction: column;z-index: 1;position: relative;background-color: white;}#sk-container-id-1 div.sk-parallel-item:first-child::after {align-self: flex-end;width: 50%;}#sk-container-id-1 div.sk-parallel-item:last-child::after {align-self: flex-start;width: 50%;}#sk-container-id-1 div.sk-parallel-item:only-child::after {width: 0;}#sk-container-id-1 div.sk-dashed-wrapped {border: 1px dashed gray;margin: 0 0.4em 0.5em 0.4em;box-sizing: border-box;padding-bottom: 0.4em;background-color: white;}#sk-container-id-1 div.sk-label label {font-family: monospace;font-weight: bold;display: inline-block;line-height: 1.2em;}#sk-container-id-1 div.sk-label-container {text-align: center;}#sk-container-id-1 div.sk-container {/* jupyter's `normalize.less` sets `[hidden] { display: none; }` but bootstrap.min.css set `[hidden] { display: none !important; }` so we also need the `!important` here to be able to override the default hidden behavior on the sphinx rendered scikit-learn.org. See: https://github.com/scikit-learn/scikit-learn/issues/21755 */display: inline-block !important;position: relative;}#sk-container-id-1 div.sk-text-repr-fallback {display: none;}</style><div id=\"sk-container-id-1\" class=\"sk-top-container\"><div class=\"sk-text-repr-fallback\"><pre>DecisionTreeClassifier(max_depth=8)</pre><b>In a Jupyter environment, please rerun this cell to show the HTML representation or trust the notebook. <br />On GitHub, the HTML representation is unable to render, please try loading this page with nbviewer.org.</b></div><div class=\"sk-container\" hidden><div class=\"sk-item\"><div class=\"sk-estimator sk-toggleable\"><input class=\"sk-toggleable__control sk-hidden--visually\" id=\"sk-estimator-id-1\" type=\"checkbox\" checked><label for=\"sk-estimator-id-1\" class=\"sk-toggleable__label sk-toggleable__label-arrow\">DecisionTreeClassifier</label><div class=\"sk-toggleable__content\"><pre>DecisionTreeClassifier(max_depth=8)</pre></div></div></div></div></div>"
      ],
      "text/plain": [
       "DecisionTreeClassifier(max_depth=8)"
      ]
     },
     "execution_count": 43,
     "metadata": {},
     "output_type": "execute_result"
    }
   ],
   "source": [
    "grid_tree.fit(X_train,y_train)"
   ]
  },
  {
   "cell_type": "code",
   "execution_count": 44,
   "id": "98b13d9f",
   "metadata": {},
   "outputs": [],
   "source": [
    "grid_predictions= grid_tree.predict(X_test)"
   ]
  },
  {
   "cell_type": "code",
   "execution_count": 45,
   "id": "53c8f57c",
   "metadata": {},
   "outputs": [
    {
     "name": "stdout",
     "output_type": "stream",
     "text": [
      "              precision    recall  f1-score   support\n",
      "\n",
      "       False       0.92      0.83      0.87      8434\n",
      "        True       0.40      0.60      0.48      1566\n",
      "\n",
      "    accuracy                           0.80     10000\n",
      "   macro avg       0.66      0.72      0.68     10000\n",
      "weighted avg       0.84      0.80      0.81     10000\n",
      "\n"
     ]
    }
   ],
   "source": [
    "print(classification_report(grid_predictions,y_test))"
   ]
  },
  {
   "cell_type": "code",
   "execution_count": 46,
   "id": "8fa89ac2",
   "metadata": {},
   "outputs": [],
   "source": [
    "from sklearn.neighbors import KNeighborsClassifier"
   ]
  },
  {
   "cell_type": "code",
   "execution_count": 47,
   "id": "1aad953f",
   "metadata": {},
   "outputs": [],
   "source": [
    "knn = KNeighborsClassifier()"
   ]
  },
  {
   "cell_type": "code",
   "execution_count": 48,
   "id": "e21257b8",
   "metadata": {},
   "outputs": [],
   "source": [
    "clf = RandomizedSearchCV(knn, {'n_neighbors': [1,3,5,7,9],'weights':['uniform', 'distance']},scoring='f1',random_state=42,verbose=3)"
   ]
  },
  {
   "cell_type": "code",
   "execution_count": 49,
   "id": "ae073264",
   "metadata": {},
   "outputs": [
    {
     "name": "stdout",
     "output_type": "stream",
     "text": [
      "Fitting 5 folds for each of 10 candidates, totalling 50 fits\n",
      "[CV 1/5] END ....n_neighbors=1, weights=uniform;, score=0.425 total time=   0.4s\n",
      "[CV 2/5] END ....n_neighbors=1, weights=uniform;, score=0.411 total time=   0.4s\n",
      "[CV 3/5] END ....n_neighbors=1, weights=uniform;, score=0.414 total time=   0.4s\n",
      "[CV 4/5] END ....n_neighbors=1, weights=uniform;, score=0.431 total time=   0.4s\n",
      "[CV 5/5] END ....n_neighbors=1, weights=uniform;, score=0.417 total time=   0.4s\n",
      "[CV 1/5] END ...n_neighbors=1, weights=distance;, score=0.425 total time=   0.2s\n",
      "[CV 2/5] END ...n_neighbors=1, weights=distance;, score=0.411 total time=   0.2s\n",
      "[CV 3/5] END ...n_neighbors=1, weights=distance;, score=0.414 total time=   0.2s\n",
      "[CV 4/5] END ...n_neighbors=1, weights=distance;, score=0.431 total time=   0.2s\n",
      "[CV 5/5] END ...n_neighbors=1, weights=distance;, score=0.417 total time=   0.1s\n",
      "[CV 1/5] END ....n_neighbors=3, weights=uniform;, score=0.416 total time=   0.5s\n",
      "[CV 2/5] END ....n_neighbors=3, weights=uniform;, score=0.425 total time=   0.5s\n",
      "[CV 3/5] END ....n_neighbors=3, weights=uniform;, score=0.430 total time=   0.4s\n",
      "[CV 4/5] END ....n_neighbors=3, weights=uniform;, score=0.430 total time=   0.5s\n",
      "[CV 5/5] END ....n_neighbors=3, weights=uniform;, score=0.412 total time=   0.4s\n",
      "[CV 1/5] END ...n_neighbors=3, weights=distance;, score=0.417 total time=   0.2s\n",
      "[CV 2/5] END ...n_neighbors=3, weights=distance;, score=0.423 total time=   0.2s\n",
      "[CV 3/5] END ...n_neighbors=3, weights=distance;, score=0.424 total time=   0.2s\n",
      "[CV 4/5] END ...n_neighbors=3, weights=distance;, score=0.430 total time=   0.2s\n",
      "[CV 5/5] END ...n_neighbors=3, weights=distance;, score=0.415 total time=   0.2s\n",
      "[CV 1/5] END ....n_neighbors=5, weights=uniform;, score=0.436 total time=   0.6s\n",
      "[CV 2/5] END ....n_neighbors=5, weights=uniform;, score=0.430 total time=   0.5s\n",
      "[CV 3/5] END ....n_neighbors=5, weights=uniform;, score=0.428 total time=   0.5s\n",
      "[CV 4/5] END ....n_neighbors=5, weights=uniform;, score=0.425 total time=   0.5s\n",
      "[CV 5/5] END ....n_neighbors=5, weights=uniform;, score=0.423 total time=   0.5s\n",
      "[CV 1/5] END ...n_neighbors=5, weights=distance;, score=0.438 total time=   0.2s\n",
      "[CV 2/5] END ...n_neighbors=5, weights=distance;, score=0.430 total time=   0.2s\n",
      "[CV 3/5] END ...n_neighbors=5, weights=distance;, score=0.423 total time=   0.2s\n",
      "[CV 4/5] END ...n_neighbors=5, weights=distance;, score=0.429 total time=   0.2s\n",
      "[CV 5/5] END ...n_neighbors=5, weights=distance;, score=0.424 total time=   0.2s\n",
      "[CV 1/5] END ....n_neighbors=7, weights=uniform;, score=0.431 total time=   0.5s\n",
      "[CV 2/5] END ....n_neighbors=7, weights=uniform;, score=0.419 total time=   0.5s\n",
      "[CV 3/5] END ....n_neighbors=7, weights=uniform;, score=0.417 total time=   0.6s\n",
      "[CV 4/5] END ....n_neighbors=7, weights=uniform;, score=0.430 total time=   0.5s\n",
      "[CV 5/5] END ....n_neighbors=7, weights=uniform;, score=0.426 total time=   0.5s\n",
      "[CV 1/5] END ...n_neighbors=7, weights=distance;, score=0.435 total time=   0.3s\n",
      "[CV 2/5] END ...n_neighbors=7, weights=distance;, score=0.416 total time=   0.2s\n",
      "[CV 3/5] END ...n_neighbors=7, weights=distance;, score=0.418 total time=   0.2s\n",
      "[CV 4/5] END ...n_neighbors=7, weights=distance;, score=0.432 total time=   0.2s\n",
      "[CV 5/5] END ...n_neighbors=7, weights=distance;, score=0.425 total time=   0.2s\n",
      "[CV 1/5] END ....n_neighbors=9, weights=uniform;, score=0.421 total time=   0.5s\n",
      "[CV 2/5] END ....n_neighbors=9, weights=uniform;, score=0.414 total time=   0.5s\n",
      "[CV 3/5] END ....n_neighbors=9, weights=uniform;, score=0.418 total time=   0.5s\n",
      "[CV 4/5] END ....n_neighbors=9, weights=uniform;, score=0.423 total time=   0.5s\n",
      "[CV 5/5] END ....n_neighbors=9, weights=uniform;, score=0.423 total time=   0.5s\n",
      "[CV 1/5] END ...n_neighbors=9, weights=distance;, score=0.424 total time=   0.3s\n",
      "[CV 2/5] END ...n_neighbors=9, weights=distance;, score=0.418 total time=   0.3s\n",
      "[CV 3/5] END ...n_neighbors=9, weights=distance;, score=0.420 total time=   0.3s\n",
      "[CV 4/5] END ...n_neighbors=9, weights=distance;, score=0.428 total time=   0.3s\n",
      "[CV 5/5] END ...n_neighbors=9, weights=distance;, score=0.419 total time=   0.2s\n"
     ]
    }
   ],
   "source": [
    "search = clf.fit(X_train,y_train)"
   ]
  },
  {
   "cell_type": "code",
   "execution_count": 50,
   "id": "8016541e",
   "metadata": {},
   "outputs": [
    {
     "data": {
      "text/plain": [
       "{'weights': 'distance', 'n_neighbors': 5}"
      ]
     },
     "execution_count": 50,
     "metadata": {},
     "output_type": "execute_result"
    }
   ],
   "source": [
    "search.best_params_"
   ]
  },
  {
   "cell_type": "code",
   "execution_count": 51,
   "id": "c920319e",
   "metadata": {},
   "outputs": [
    {
     "data": {
      "text/plain": [
       "0.4289256022740351"
      ]
     },
     "execution_count": 51,
     "metadata": {},
     "output_type": "execute_result"
    }
   ],
   "source": [
    "search.best_score_"
   ]
  },
  {
   "cell_type": "code",
   "execution_count": 52,
   "id": "cedd53bb",
   "metadata": {},
   "outputs": [],
   "source": [
    "best_knn = KNeighborsClassifier(n_neighbors=5, weights='distance')"
   ]
  },
  {
   "cell_type": "code",
   "execution_count": 53,
   "id": "d489a3a8",
   "metadata": {},
   "outputs": [
    {
     "data": {
      "text/html": [
       "<style>#sk-container-id-2 {color: black;background-color: white;}#sk-container-id-2 pre{padding: 0;}#sk-container-id-2 div.sk-toggleable {background-color: white;}#sk-container-id-2 label.sk-toggleable__label {cursor: pointer;display: block;width: 100%;margin-bottom: 0;padding: 0.3em;box-sizing: border-box;text-align: center;}#sk-container-id-2 label.sk-toggleable__label-arrow:before {content: \"▸\";float: left;margin-right: 0.25em;color: #696969;}#sk-container-id-2 label.sk-toggleable__label-arrow:hover:before {color: black;}#sk-container-id-2 div.sk-estimator:hover label.sk-toggleable__label-arrow:before {color: black;}#sk-container-id-2 div.sk-toggleable__content {max-height: 0;max-width: 0;overflow: hidden;text-align: left;background-color: #f0f8ff;}#sk-container-id-2 div.sk-toggleable__content pre {margin: 0.2em;color: black;border-radius: 0.25em;background-color: #f0f8ff;}#sk-container-id-2 input.sk-toggleable__control:checked~div.sk-toggleable__content {max-height: 200px;max-width: 100%;overflow: auto;}#sk-container-id-2 input.sk-toggleable__control:checked~label.sk-toggleable__label-arrow:before {content: \"▾\";}#sk-container-id-2 div.sk-estimator input.sk-toggleable__control:checked~label.sk-toggleable__label {background-color: #d4ebff;}#sk-container-id-2 div.sk-label input.sk-toggleable__control:checked~label.sk-toggleable__label {background-color: #d4ebff;}#sk-container-id-2 input.sk-hidden--visually {border: 0;clip: rect(1px 1px 1px 1px);clip: rect(1px, 1px, 1px, 1px);height: 1px;margin: -1px;overflow: hidden;padding: 0;position: absolute;width: 1px;}#sk-container-id-2 div.sk-estimator {font-family: monospace;background-color: #f0f8ff;border: 1px dotted black;border-radius: 0.25em;box-sizing: border-box;margin-bottom: 0.5em;}#sk-container-id-2 div.sk-estimator:hover {background-color: #d4ebff;}#sk-container-id-2 div.sk-parallel-item::after {content: \"\";width: 100%;border-bottom: 1px solid gray;flex-grow: 1;}#sk-container-id-2 div.sk-label:hover label.sk-toggleable__label {background-color: #d4ebff;}#sk-container-id-2 div.sk-serial::before {content: \"\";position: absolute;border-left: 1px solid gray;box-sizing: border-box;top: 0;bottom: 0;left: 50%;z-index: 0;}#sk-container-id-2 div.sk-serial {display: flex;flex-direction: column;align-items: center;background-color: white;padding-right: 0.2em;padding-left: 0.2em;position: relative;}#sk-container-id-2 div.sk-item {position: relative;z-index: 1;}#sk-container-id-2 div.sk-parallel {display: flex;align-items: stretch;justify-content: center;background-color: white;position: relative;}#sk-container-id-2 div.sk-item::before, #sk-container-id-2 div.sk-parallel-item::before {content: \"\";position: absolute;border-left: 1px solid gray;box-sizing: border-box;top: 0;bottom: 0;left: 50%;z-index: -1;}#sk-container-id-2 div.sk-parallel-item {display: flex;flex-direction: column;z-index: 1;position: relative;background-color: white;}#sk-container-id-2 div.sk-parallel-item:first-child::after {align-self: flex-end;width: 50%;}#sk-container-id-2 div.sk-parallel-item:last-child::after {align-self: flex-start;width: 50%;}#sk-container-id-2 div.sk-parallel-item:only-child::after {width: 0;}#sk-container-id-2 div.sk-dashed-wrapped {border: 1px dashed gray;margin: 0 0.4em 0.5em 0.4em;box-sizing: border-box;padding-bottom: 0.4em;background-color: white;}#sk-container-id-2 div.sk-label label {font-family: monospace;font-weight: bold;display: inline-block;line-height: 1.2em;}#sk-container-id-2 div.sk-label-container {text-align: center;}#sk-container-id-2 div.sk-container {/* jupyter's `normalize.less` sets `[hidden] { display: none; }` but bootstrap.min.css set `[hidden] { display: none !important; }` so we also need the `!important` here to be able to override the default hidden behavior on the sphinx rendered scikit-learn.org. See: https://github.com/scikit-learn/scikit-learn/issues/21755 */display: inline-block !important;position: relative;}#sk-container-id-2 div.sk-text-repr-fallback {display: none;}</style><div id=\"sk-container-id-2\" class=\"sk-top-container\"><div class=\"sk-text-repr-fallback\"><pre>KNeighborsClassifier(weights=&#x27;distance&#x27;)</pre><b>In a Jupyter environment, please rerun this cell to show the HTML representation or trust the notebook. <br />On GitHub, the HTML representation is unable to render, please try loading this page with nbviewer.org.</b></div><div class=\"sk-container\" hidden><div class=\"sk-item\"><div class=\"sk-estimator sk-toggleable\"><input class=\"sk-toggleable__control sk-hidden--visually\" id=\"sk-estimator-id-2\" type=\"checkbox\" checked><label for=\"sk-estimator-id-2\" class=\"sk-toggleable__label sk-toggleable__label-arrow\">KNeighborsClassifier</label><div class=\"sk-toggleable__content\"><pre>KNeighborsClassifier(weights=&#x27;distance&#x27;)</pre></div></div></div></div></div>"
      ],
      "text/plain": [
       "KNeighborsClassifier(weights='distance')"
      ]
     },
     "execution_count": 53,
     "metadata": {},
     "output_type": "execute_result"
    }
   ],
   "source": [
    "best_knn.fit(X_train,y_train)"
   ]
  },
  {
   "cell_type": "code",
   "execution_count": 54,
   "id": "f245fb7d",
   "metadata": {},
   "outputs": [],
   "source": [
    "knn_predictions = best_knn.predict(X_test)"
   ]
  },
  {
   "cell_type": "code",
   "execution_count": 55,
   "id": "ff219161",
   "metadata": {},
   "outputs": [
    {
     "name": "stdout",
     "output_type": "stream",
     "text": [
      "              precision    recall  f1-score   support\n",
      "\n",
      "       False       0.87      0.82      0.85      8110\n",
      "        True       0.39      0.49      0.44      1890\n",
      "\n",
      "    accuracy                           0.76     10000\n",
      "   macro avg       0.63      0.66      0.64     10000\n",
      "weighted avg       0.78      0.76      0.77     10000\n",
      "\n"
     ]
    }
   ],
   "source": [
    "print(classification_report(knn_predictions,y_test))"
   ]
  },
  {
   "cell_type": "code",
   "execution_count": 56,
   "id": "16c4a08c",
   "metadata": {},
   "outputs": [],
   "source": [
    "interpretable_tree = DecisionTreeClassifier(max_features=2,max_depth=4,criterion='entropy',random_state=42)"
   ]
  },
  {
   "cell_type": "code",
   "execution_count": 57,
   "id": "f176efc4",
   "metadata": {},
   "outputs": [
    {
     "data": {
      "text/html": [
       "<style>#sk-container-id-3 {color: black;background-color: white;}#sk-container-id-3 pre{padding: 0;}#sk-container-id-3 div.sk-toggleable {background-color: white;}#sk-container-id-3 label.sk-toggleable__label {cursor: pointer;display: block;width: 100%;margin-bottom: 0;padding: 0.3em;box-sizing: border-box;text-align: center;}#sk-container-id-3 label.sk-toggleable__label-arrow:before {content: \"▸\";float: left;margin-right: 0.25em;color: #696969;}#sk-container-id-3 label.sk-toggleable__label-arrow:hover:before {color: black;}#sk-container-id-3 div.sk-estimator:hover label.sk-toggleable__label-arrow:before {color: black;}#sk-container-id-3 div.sk-toggleable__content {max-height: 0;max-width: 0;overflow: hidden;text-align: left;background-color: #f0f8ff;}#sk-container-id-3 div.sk-toggleable__content pre {margin: 0.2em;color: black;border-radius: 0.25em;background-color: #f0f8ff;}#sk-container-id-3 input.sk-toggleable__control:checked~div.sk-toggleable__content {max-height: 200px;max-width: 100%;overflow: auto;}#sk-container-id-3 input.sk-toggleable__control:checked~label.sk-toggleable__label-arrow:before {content: \"▾\";}#sk-container-id-3 div.sk-estimator input.sk-toggleable__control:checked~label.sk-toggleable__label {background-color: #d4ebff;}#sk-container-id-3 div.sk-label input.sk-toggleable__control:checked~label.sk-toggleable__label {background-color: #d4ebff;}#sk-container-id-3 input.sk-hidden--visually {border: 0;clip: rect(1px 1px 1px 1px);clip: rect(1px, 1px, 1px, 1px);height: 1px;margin: -1px;overflow: hidden;padding: 0;position: absolute;width: 1px;}#sk-container-id-3 div.sk-estimator {font-family: monospace;background-color: #f0f8ff;border: 1px dotted black;border-radius: 0.25em;box-sizing: border-box;margin-bottom: 0.5em;}#sk-container-id-3 div.sk-estimator:hover {background-color: #d4ebff;}#sk-container-id-3 div.sk-parallel-item::after {content: \"\";width: 100%;border-bottom: 1px solid gray;flex-grow: 1;}#sk-container-id-3 div.sk-label:hover label.sk-toggleable__label {background-color: #d4ebff;}#sk-container-id-3 div.sk-serial::before {content: \"\";position: absolute;border-left: 1px solid gray;box-sizing: border-box;top: 0;bottom: 0;left: 50%;z-index: 0;}#sk-container-id-3 div.sk-serial {display: flex;flex-direction: column;align-items: center;background-color: white;padding-right: 0.2em;padding-left: 0.2em;position: relative;}#sk-container-id-3 div.sk-item {position: relative;z-index: 1;}#sk-container-id-3 div.sk-parallel {display: flex;align-items: stretch;justify-content: center;background-color: white;position: relative;}#sk-container-id-3 div.sk-item::before, #sk-container-id-3 div.sk-parallel-item::before {content: \"\";position: absolute;border-left: 1px solid gray;box-sizing: border-box;top: 0;bottom: 0;left: 50%;z-index: -1;}#sk-container-id-3 div.sk-parallel-item {display: flex;flex-direction: column;z-index: 1;position: relative;background-color: white;}#sk-container-id-3 div.sk-parallel-item:first-child::after {align-self: flex-end;width: 50%;}#sk-container-id-3 div.sk-parallel-item:last-child::after {align-self: flex-start;width: 50%;}#sk-container-id-3 div.sk-parallel-item:only-child::after {width: 0;}#sk-container-id-3 div.sk-dashed-wrapped {border: 1px dashed gray;margin: 0 0.4em 0.5em 0.4em;box-sizing: border-box;padding-bottom: 0.4em;background-color: white;}#sk-container-id-3 div.sk-label label {font-family: monospace;font-weight: bold;display: inline-block;line-height: 1.2em;}#sk-container-id-3 div.sk-label-container {text-align: center;}#sk-container-id-3 div.sk-container {/* jupyter's `normalize.less` sets `[hidden] { display: none; }` but bootstrap.min.css set `[hidden] { display: none !important; }` so we also need the `!important` here to be able to override the default hidden behavior on the sphinx rendered scikit-learn.org. See: https://github.com/scikit-learn/scikit-learn/issues/21755 */display: inline-block !important;position: relative;}#sk-container-id-3 div.sk-text-repr-fallback {display: none;}</style><div id=\"sk-container-id-3\" class=\"sk-top-container\"><div class=\"sk-text-repr-fallback\"><pre>DecisionTreeClassifier(criterion=&#x27;entropy&#x27;, max_depth=4, max_features=2,\n",
       "                       random_state=42)</pre><b>In a Jupyter environment, please rerun this cell to show the HTML representation or trust the notebook. <br />On GitHub, the HTML representation is unable to render, please try loading this page with nbviewer.org.</b></div><div class=\"sk-container\" hidden><div class=\"sk-item\"><div class=\"sk-estimator sk-toggleable\"><input class=\"sk-toggleable__control sk-hidden--visually\" id=\"sk-estimator-id-3\" type=\"checkbox\" checked><label for=\"sk-estimator-id-3\" class=\"sk-toggleable__label sk-toggleable__label-arrow\">DecisionTreeClassifier</label><div class=\"sk-toggleable__content\"><pre>DecisionTreeClassifier(criterion=&#x27;entropy&#x27;, max_depth=4, max_features=2,\n",
       "                       random_state=42)</pre></div></div></div></div></div>"
      ],
      "text/plain": [
       "DecisionTreeClassifier(criterion='entropy', max_depth=4, max_features=2,\n",
       "                       random_state=42)"
      ]
     },
     "execution_count": 57,
     "metadata": {},
     "output_type": "execute_result"
    }
   ],
   "source": [
    "interpretable_tree.fit(X_train,y_train)"
   ]
  },
  {
   "cell_type": "code",
   "execution_count": 58,
   "id": "2ca989b3",
   "metadata": {},
   "outputs": [],
   "source": [
    "interp_predictions = interpretable_tree.predict(X_test)"
   ]
  },
  {
   "cell_type": "code",
   "execution_count": 59,
   "id": "1ffa27b7",
   "metadata": {},
   "outputs": [
    {
     "name": "stdout",
     "output_type": "stream",
     "text": [
      "              precision    recall  f1-score   support\n",
      "\n",
      "       False       0.90      0.82      0.85      8390\n",
      "        True       0.35      0.51      0.41      1610\n",
      "\n",
      "    accuracy                           0.77     10000\n",
      "   macro avg       0.62      0.66      0.63     10000\n",
      "weighted avg       0.81      0.77      0.78     10000\n",
      "\n"
     ]
    }
   ],
   "source": [
    "print(classification_report(interp_predictions,y_test))"
   ]
  },
  {
   "cell_type": "code",
   "execution_count": 78,
   "id": "5e0612df",
   "metadata": {},
   "outputs": [
    {
     "data": {
      "image/png": "[encoded data removed]",
      "text/plain": [
       "<Figure size 1500x800 with 1 Axes>"
      ]
     },
     "metadata": {},
     "output_type": "display_data"
    }
   ],
   "source": [
    "plt.figure(figsize=(15,8))\n",
    "plot_tree(interpretable_tree,fontsize=5,filled=True,feature_names=X_test.columns)\n",
    "plt.savefig('decisiontree.png')"
   ]
  },
  {
   "cell_type": "code",
   "execution_count": 66,
   "id": "c8b70fcc",
   "metadata": {},
   "outputs": [],
   "source": [
    "from sklearn.preprocessing import StandardScaler\n",
    "from sklearn.pipeline import Pipeline\n",
    "from sklearn.decomposition import PCA"
   ]
  },
  {
   "cell_type": "code",
   "execution_count": 67,
   "id": "db064505",
   "metadata": {},
   "outputs": [],
   "source": [
    "scaler = StandardScaler()\n",
    "pca = PCA(random_state=42)\n",
    "tree = DecisionTreeClassifier(random_state=42)\n",
    "pipe = Pipeline(steps = [(\"scaler\", scaler), (\"pca\", pca), (\"tree\", tree)])"
   ]
  },
  {
   "cell_type": "code",
   "execution_count": 69,
   "id": "090700ac",
   "metadata": {},
   "outputs": [],
   "source": [
    "param_grid = {'pca__n_components': [3, 6, 9, 12],'tree__criterion':['gini','entropy','log_loss'],'tree__max_depth': [None, 6,7,8,9,10,11],'tree__max_features': [None,1,2,3,4,5]}"
   ]
  },
  {
   "cell_type": "code",
   "execution_count": 70,
   "id": "dfc12982",
   "metadata": {},
   "outputs": [],
   "source": [
    "search = RandomizedSearchCV(pipe, param_grid, random_state=42,scoring='f1',verbose=3)"
   ]
  },
  {
   "cell_type": "code",
   "execution_count": 71,
   "id": "34ced3f3",
   "metadata": {},
   "outputs": [
    {
     "name": "stdout",
     "output_type": "stream",
     "text": [
      "Fitting 5 folds for each of 10 candidates, totalling 50 fits\n",
      "[CV 1/5] END pca__n_components=6, tree__criterion=entropy, tree__max_depth=None, tree__max_features=5;, score=0.374 total time=   0.6s\n",
      "[CV 2/5] END pca__n_components=6, tree__criterion=entropy, tree__max_depth=None, tree__max_features=5;, score=0.399 total time=   0.4s\n",
      "[CV 3/5] END pca__n_components=6, tree__criterion=entropy, tree__max_depth=None, tree__max_features=5;, score=0.405 total time=   0.4s\n",
      "[CV 4/5] END pca__n_components=6, tree__criterion=entropy, tree__max_depth=None, tree__max_features=5;, score=0.403 total time=   0.3s\n",
      "[CV 5/5] END pca__n_components=6, tree__criterion=entropy, tree__max_depth=None, tree__max_features=5;, score=0.411 total time=   0.3s\n",
      "[CV 1/5] END pca__n_components=9, tree__criterion=gini, tree__max_depth=8, tree__max_features=4;, score=0.359 total time=   0.1s\n",
      "[CV 2/5] END pca__n_components=9, tree__criterion=gini, tree__max_depth=8, tree__max_features=4;, score=0.376 total time=   0.1s\n",
      "[CV 3/5] END pca__n_components=9, tree__criterion=gini, tree__max_depth=8, tree__max_features=4;, score=0.400 total time=   0.1s\n",
      "[CV 4/5] END pca__n_components=9, tree__criterion=gini, tree__max_depth=8, tree__max_features=4;, score=0.364 total time=   0.1s\n",
      "[CV 5/5] END pca__n_components=9, tree__criterion=gini, tree__max_depth=8, tree__max_features=4;, score=0.383 total time=   0.1s\n",
      "[CV 1/5] END pca__n_components=12, tree__criterion=log_loss, tree__max_depth=9, tree__max_features=3;, score=0.435 total time=   0.1s\n",
      "[CV 2/5] END pca__n_components=12, tree__criterion=log_loss, tree__max_depth=9, tree__max_features=3;, score=0.394 total time=   0.1s\n",
      "[CV 3/5] END pca__n_components=12, tree__criterion=log_loss, tree__max_depth=9, tree__max_features=3;, score=0.350 total time=   0.1s\n",
      "[CV 4/5] END pca__n_components=12, tree__criterion=log_loss, tree__max_depth=9, tree__max_features=3;, score=0.371 total time=   0.1s\n",
      "[CV 5/5] END pca__n_components=12, tree__criterion=log_loss, tree__max_depth=9, tree__max_features=3;, score=0.395 total time=   0.1s\n",
      "[CV 1/5] END pca__n_components=3, tree__criterion=entropy, tree__max_depth=10, tree__max_features=None;, score=0.374 total time=   0.1s\n",
      "[CV 2/5] END pca__n_components=3, tree__criterion=entropy, tree__max_depth=10, tree__max_features=None;, score=0.389 total time=   0.1s\n",
      "[CV 3/5] END pca__n_components=3, tree__criterion=entropy, tree__max_depth=10, tree__max_features=None;, score=0.350 total time=   0.1s\n",
      "[CV 4/5] END pca__n_components=3, tree__criterion=entropy, tree__max_depth=10, tree__max_features=None;, score=0.295 total time=   0.1s\n",
      "[CV 5/5] END pca__n_components=3, tree__criterion=entropy, tree__max_depth=10, tree__max_features=None;, score=0.313 total time=   0.1s\n",
      "[CV 1/5] END pca__n_components=9, tree__criterion=entropy, tree__max_depth=6, tree__max_features=5;, score=0.351 total time=   0.1s\n",
      "[CV 2/5] END pca__n_components=9, tree__criterion=entropy, tree__max_depth=6, tree__max_features=5;, score=0.359 total time=   0.2s\n",
      "[CV 3/5] END pca__n_components=9, tree__criterion=entropy, tree__max_depth=6, tree__max_features=5;, score=0.230 total time=   0.1s\n",
      "[CV 4/5] END pca__n_components=9, tree__criterion=entropy, tree__max_depth=6, tree__max_features=5;, score=0.407 total time=   0.1s\n",
      "[CV 5/5] END pca__n_components=9, tree__criterion=entropy, tree__max_depth=6, tree__max_features=5;, score=0.309 total time=   0.1s\n",
      "[CV 1/5] END pca__n_components=3, tree__criterion=entropy, tree__max_depth=10, tree__max_features=4;, score=0.374 total time=   0.1s\n",
      "[CV 2/5] END pca__n_components=3, tree__criterion=entropy, tree__max_depth=10, tree__max_features=4;, score=0.389 total time=   0.1s\n",
      "[CV 3/5] END pca__n_components=3, tree__criterion=entropy, tree__max_depth=10, tree__max_features=4;, score=0.350 total time=   0.1s\n",
      "[CV 4/5] END pca__n_components=3, tree__criterion=entropy, tree__max_depth=10, tree__max_features=4;, score=0.295 total time=   0.1s\n",
      "[CV 5/5] END pca__n_components=3, tree__criterion=entropy, tree__max_depth=10, tree__max_features=4;, score=0.313 total time=   0.1s\n",
      "[CV 1/5] END pca__n_components=12, tree__criterion=log_loss, tree__max_depth=7, tree__max_features=1;, score=0.192 total time=   0.0s\n",
      "[CV 2/5] END pca__n_components=12, tree__criterion=log_loss, tree__max_depth=7, tree__max_features=1;, score=0.227 total time=   0.0s\n",
      "[CV 3/5] END pca__n_components=12, tree__criterion=log_loss, tree__max_depth=7, tree__max_features=1;, score=0.348 total time=   0.0s\n",
      "[CV 4/5] END pca__n_components=12, tree__criterion=log_loss, tree__max_depth=7, tree__max_features=1;, score=0.203 total time=   0.0s\n",
      "[CV 5/5] END pca__n_components=12, tree__criterion=log_loss, tree__max_depth=7, tree__max_features=1;, score=0.321 total time=   0.0s\n",
      "[CV 1/5] END pca__n_components=6, tree__criterion=gini, tree__max_depth=7, tree__max_features=2;, score=0.288 total time=   0.1s\n",
      "[CV 2/5] END pca__n_components=6, tree__criterion=gini, tree__max_depth=7, tree__max_features=2;, score=0.367 total time=   0.0s\n",
      "[CV 3/5] END pca__n_components=6, tree__criterion=gini, tree__max_depth=7, tree__max_features=2;, score=0.325 total time=   0.1s\n",
      "[CV 4/5] END pca__n_components=6, tree__criterion=gini, tree__max_depth=7, tree__max_features=2;, score=0.330 total time=   0.1s\n",
      "[CV 5/5] END pca__n_components=6, tree__criterion=gini, tree__max_depth=7, tree__max_features=2;, score=0.366 total time=   0.0s\n",
      "[CV 1/5] END pca__n_components=12, tree__criterion=log_loss, tree__max_depth=6, tree__max_features=1;, score=0.101 total time=   0.0s\n",
      "[CV 2/5] END pca__n_components=12, tree__criterion=log_loss, tree__max_depth=6, tree__max_features=1;, score=0.117 total time=   0.0s\n",
      "[CV 3/5] END pca__n_components=12, tree__criterion=log_loss, tree__max_depth=6, tree__max_features=1;, score=0.142 total time=   0.0s\n",
      "[CV 4/5] END pca__n_components=12, tree__criterion=log_loss, tree__max_depth=6, tree__max_features=1;, score=0.108 total time=   0.0s\n",
      "[CV 5/5] END pca__n_components=12, tree__criterion=log_loss, tree__max_depth=6, tree__max_features=1;, score=0.131 total time=   0.0s\n",
      "[CV 1/5] END pca__n_components=12, tree__criterion=log_loss, tree__max_depth=11, tree__max_features=None;, score=0.398 total time=   0.5s\n",
      "[CV 2/5] END pca__n_components=12, tree__criterion=log_loss, tree__max_depth=11, tree__max_features=None;, score=0.455 total time=   0.6s\n",
      "[CV 3/5] END pca__n_components=12, tree__criterion=log_loss, tree__max_depth=11, tree__max_features=None;, score=0.414 total time=   0.6s\n",
      "[CV 4/5] END pca__n_components=12, tree__criterion=log_loss, tree__max_depth=11, tree__max_features=None;, score=0.456 total time=   0.6s\n",
      "[CV 5/5] END pca__n_components=12, tree__criterion=log_loss, tree__max_depth=11, tree__max_features=None;, score=0.435 total time=   0.7s\n"
     ]
    },
    {
     "data": {
      "text/html": [
       "<style>#sk-container-id-5 {color: black;background-color: white;}#sk-container-id-5 pre{padding: 0;}#sk-container-id-5 div.sk-toggleable {background-color: white;}#sk-container-id-5 label.sk-toggleable__label {cursor: pointer;display: block;width: 100%;margin-bottom: 0;padding: 0.3em;box-sizing: border-box;text-align: center;}#sk-container-id-5 label.sk-toggleable__label-arrow:before {content: \"▸\";float: left;margin-right: 0.25em;color: #696969;}#sk-container-id-5 label.sk-toggleable__label-arrow:hover:before {color: black;}#sk-container-id-5 div.sk-estimator:hover label.sk-toggleable__label-arrow:before {color: black;}#sk-container-id-5 div.sk-toggleable__content {max-height: 0;max-width: 0;overflow: hidden;text-align: left;background-color: #f0f8ff;}#sk-container-id-5 div.sk-toggleable__content pre {margin: 0.2em;color: black;border-radius: 0.25em;background-color: #f0f8ff;}#sk-container-id-5 input.sk-toggleable__control:checked~div.sk-toggleable__content {max-height: 200px;max-width: 100%;overflow: auto;}#sk-container-id-5 input.sk-toggleable__control:checked~label.sk-toggleable__label-arrow:before {content: \"▾\";}#sk-container-id-5 div.sk-estimator input.sk-toggleable__control:checked~label.sk-toggleable__label {background-color: #d4ebff;}#sk-container-id-5 div.sk-label input.sk-toggleable__control:checked~label.sk-toggleable__label {background-color: #d4ebff;}#sk-container-id-5 input.sk-hidden--visually {border: 0;clip: rect(1px 1px 1px 1px);clip: rect(1px, 1px, 1px, 1px);height: 1px;margin: -1px;overflow: hidden;padding: 0;position: absolute;width: 1px;}#sk-container-id-5 div.sk-estimator {font-family: monospace;background-color: #f0f8ff;border: 1px dotted black;border-radius: 0.25em;box-sizing: border-box;margin-bottom: 0.5em;}#sk-container-id-5 div.sk-estimator:hover {background-color: #d4ebff;}#sk-container-id-5 div.sk-parallel-item::after {content: \"\";width: 100%;border-bottom: 1px solid gray;flex-grow: 1;}#sk-container-id-5 div.sk-label:hover label.sk-toggleable__label {background-color: #d4ebff;}#sk-container-id-5 div.sk-serial::before {content: \"\";position: absolute;border-left: 1px solid gray;box-sizing: border-box;top: 0;bottom: 0;left: 50%;z-index: 0;}#sk-container-id-5 div.sk-serial {display: flex;flex-direction: column;align-items: center;background-color: white;padding-right: 0.2em;padding-left: 0.2em;position: relative;}#sk-container-id-5 div.sk-item {position: relative;z-index: 1;}#sk-container-id-5 div.sk-parallel {display: flex;align-items: stretch;justify-content: center;background-color: white;position: relative;}#sk-container-id-5 div.sk-item::before, #sk-container-id-5 div.sk-parallel-item::before {content: \"\";position: absolute;border-left: 1px solid gray;box-sizing: border-box;top: 0;bottom: 0;left: 50%;z-index: -1;}#sk-container-id-5 div.sk-parallel-item {display: flex;flex-direction: column;z-index: 1;position: relative;background-color: white;}#sk-container-id-5 div.sk-parallel-item:first-child::after {align-self: flex-end;width: 50%;}#sk-container-id-5 div.sk-parallel-item:last-child::after {align-self: flex-start;width: 50%;}#sk-container-id-5 div.sk-parallel-item:only-child::after {width: 0;}#sk-container-id-5 div.sk-dashed-wrapped {border: 1px dashed gray;margin: 0 0.4em 0.5em 0.4em;box-sizing: border-box;padding-bottom: 0.4em;background-color: white;}#sk-container-id-5 div.sk-label label {font-family: monospace;font-weight: bold;display: inline-block;line-height: 1.2em;}#sk-container-id-5 div.sk-label-container {text-align: center;}#sk-container-id-5 div.sk-container {/* jupyter's `normalize.less` sets `[hidden] { display: none; }` but bootstrap.min.css set `[hidden] { display: none !important; }` so we also need the `!important` here to be able to override the default hidden behavior on the sphinx rendered scikit-learn.org. See: https://github.com/scikit-learn/scikit-learn/issues/21755 */display: inline-block !important;position: relative;}#sk-container-id-5 div.sk-text-repr-fallback {display: none;}</style><div id=\"sk-container-id-5\" class=\"sk-top-container\"><div class=\"sk-text-repr-fallback\"><pre>RandomizedSearchCV(estimator=Pipeline(steps=[(&#x27;scaler&#x27;, StandardScaler()),\n",
       "                                             (&#x27;pca&#x27;, PCA(random_state=42)),\n",
       "                                             (&#x27;tree&#x27;,\n",
       "                                              DecisionTreeClassifier(random_state=42))]),\n",
       "                   param_distributions={&#x27;pca__n_components&#x27;: [3, 6, 9, 12],\n",
       "                                        &#x27;tree__criterion&#x27;: [&#x27;gini&#x27;, &#x27;entropy&#x27;,\n",
       "                                                            &#x27;log_loss&#x27;],\n",
       "                                        &#x27;tree__max_depth&#x27;: [None, 6, 7, 8, 9,\n",
       "                                                            10, 11],\n",
       "                                        &#x27;tree__max_features&#x27;: [None, 1, 2, 3, 4,\n",
       "                                                               5]},\n",
       "                   random_state=42, scoring=&#x27;f1&#x27;, verbose=3)</pre><b>In a Jupyter environment, please rerun this cell to show the HTML representation or trust the notebook. <br />On GitHub, the HTML representation is unable to render, please try loading this page with nbviewer.org.</b></div><div class=\"sk-container\" hidden><div class=\"sk-item sk-dashed-wrapped\"><div class=\"sk-label-container\"><div class=\"sk-label sk-toggleable\"><input class=\"sk-toggleable__control sk-hidden--visually\" id=\"sk-estimator-id-7\" type=\"checkbox\" ><label for=\"sk-estimator-id-7\" class=\"sk-toggleable__label sk-toggleable__label-arrow\">RandomizedSearchCV</label><div class=\"sk-toggleable__content\"><pre>RandomizedSearchCV(estimator=Pipeline(steps=[(&#x27;scaler&#x27;, StandardScaler()),\n",
       "                                             (&#x27;pca&#x27;, PCA(random_state=42)),\n",
       "                                             (&#x27;tree&#x27;,\n",
       "                                              DecisionTreeClassifier(random_state=42))]),\n",
       "                   param_distributions={&#x27;pca__n_components&#x27;: [3, 6, 9, 12],\n",
       "                                        &#x27;tree__criterion&#x27;: [&#x27;gini&#x27;, &#x27;entropy&#x27;,\n",
       "                                                            &#x27;log_loss&#x27;],\n",
       "                                        &#x27;tree__max_depth&#x27;: [None, 6, 7, 8, 9,\n",
       "                                                            10, 11],\n",
       "                                        &#x27;tree__max_features&#x27;: [None, 1, 2, 3, 4,\n",
       "                                                               5]},\n",
       "                   random_state=42, scoring=&#x27;f1&#x27;, verbose=3)</pre></div></div></div><div class=\"sk-parallel\"><div class=\"sk-parallel-item\"><div class=\"sk-item\"><div class=\"sk-label-container\"><div class=\"sk-label sk-toggleable\"><input class=\"sk-toggleable__control sk-hidden--visually\" id=\"sk-estimator-id-8\" type=\"checkbox\" ><label for=\"sk-estimator-id-8\" class=\"sk-toggleable__label sk-toggleable__label-arrow\">estimator: Pipeline</label><div class=\"sk-toggleable__content\"><pre>Pipeline(steps=[(&#x27;scaler&#x27;, StandardScaler()), (&#x27;pca&#x27;, PCA(random_state=42)),\n",
       "                (&#x27;tree&#x27;, DecisionTreeClassifier(random_state=42))])</pre></div></div></div><div class=\"sk-serial\"><div class=\"sk-item\"><div class=\"sk-serial\"><div class=\"sk-item\"><div class=\"sk-estimator sk-toggleable\"><input class=\"sk-toggleable__control sk-hidden--visually\" id=\"sk-estimator-id-9\" type=\"checkbox\" ><label for=\"sk-estimator-id-9\" class=\"sk-toggleable__label sk-toggleable__label-arrow\">StandardScaler</label><div class=\"sk-toggleable__content\"><pre>StandardScaler()</pre></div></div></div><div class=\"sk-item\"><div class=\"sk-estimator sk-toggleable\"><input class=\"sk-toggleable__control sk-hidden--visually\" id=\"sk-estimator-id-10\" type=\"checkbox\" ><label for=\"sk-estimator-id-10\" class=\"sk-toggleable__label sk-toggleable__label-arrow\">PCA</label><div class=\"sk-toggleable__content\"><pre>PCA(random_state=42)</pre></div></div></div><div class=\"sk-item\"><div class=\"sk-estimator sk-toggleable\"><input class=\"sk-toggleable__control sk-hidden--visually\" id=\"sk-estimator-id-11\" type=\"checkbox\" ><label for=\"sk-estimator-id-11\" class=\"sk-toggleable__label sk-toggleable__label-arrow\">DecisionTreeClassifier</label><div class=\"sk-toggleable__content\"><pre>DecisionTreeClassifier(random_state=42)</pre></div></div></div></div></div></div></div></div></div></div></div></div>"
      ],
      "text/plain": [
       "RandomizedSearchCV(estimator=Pipeline(steps=[('scaler', StandardScaler()),\n",
       "                                             ('pca', PCA(random_state=42)),\n",
       "                                             ('tree',\n",
       "                                              DecisionTreeClassifier(random_state=42))]),\n",
       "                   param_distributions={'pca__n_components': [3, 6, 9, 12],\n",
       "                                        'tree__criterion': ['gini', 'entropy',\n",
       "                                                            'log_loss'],\n",
       "                                        'tree__max_depth': [None, 6, 7, 8, 9,\n",
       "                                                            10, 11],\n",
       "                                        'tree__max_features': [None, 1, 2, 3, 4,\n",
       "                                                               5]},\n",
       "                   random_state=42, scoring='f1', verbose=3)"
      ]
     },
     "execution_count": 71,
     "metadata": {},
     "output_type": "execute_result"
    }
   ],
   "source": [
    "search.fit(X_train,y_train)"
   ]
  },
  {
   "cell_type": "code",
   "execution_count": 72,
   "id": "1e805388",
   "metadata": {},
   "outputs": [
    {
     "data": {
      "text/plain": [
       "0.4313604734004729"
      ]
     },
     "execution_count": 72,
     "metadata": {},
     "output_type": "execute_result"
    }
   ],
   "source": [
    "search.best_score_"
   ]
  },
  {
   "cell_type": "code",
   "execution_count": 73,
   "id": "b61d08f6",
   "metadata": {},
   "outputs": [],
   "source": [
    "knn = KNeighborsClassifier()\n",
    "param_grid = {'pca__n_components':[3,6,9,12],'knn__n_neighbors': [1,3,5,7,9],'knn__weights':['uniform', 'distance']}\n",
    "pipe = Pipeline(steps = [(\"scaler\", scaler), (\"pca\", pca), (\"knn\", knn)])\n",
    "search = RandomizedSearchCV(pipe, param_grid, random_state=42,scoring='f1',verbose=3)"
   ]
  },
  {
   "cell_type": "code",
   "execution_count": 74,
   "id": "0bc3f486",
   "metadata": {},
   "outputs": [
    {
     "name": "stdout",
     "output_type": "stream",
     "text": [
      "Fitting 5 folds for each of 10 candidates, totalling 50 fits\n",
      "[CV 1/5] END knn__n_neighbors=5, knn__weights=uniform, pca__n_components=12;, score=0.432 total time=   0.5s\n",
      "[CV 2/5] END knn__n_neighbors=5, knn__weights=uniform, pca__n_components=12;, score=0.447 total time=   0.5s\n",
      "[CV 3/5] END knn__n_neighbors=5, knn__weights=uniform, pca__n_components=12;, score=0.438 total time=   0.6s\n",
      "[CV 4/5] END knn__n_neighbors=5, knn__weights=uniform, pca__n_components=12;, score=0.446 total time=   0.6s\n",
      "[CV 5/5] END knn__n_neighbors=5, knn__weights=uniform, pca__n_components=12;, score=0.447 total time=   0.6s\n",
      "[CV 1/5] END knn__n_neighbors=5, knn__weights=uniform, pca__n_components=3;, score=0.383 total time=   0.4s\n",
      "[CV 2/5] END knn__n_neighbors=5, knn__weights=uniform, pca__n_components=3;, score=0.384 total time=   0.3s\n",
      "[CV 3/5] END knn__n_neighbors=5, knn__weights=uniform, pca__n_components=3;, score=0.374 total time=   0.4s\n",
      "[CV 4/5] END knn__n_neighbors=5, knn__weights=uniform, pca__n_components=3;, score=0.386 total time=   0.3s\n",
      "[CV 5/5] END knn__n_neighbors=5, knn__weights=uniform, pca__n_components=3;, score=0.389 total time=   0.4s\n",
      "[CV 1/5] END knn__n_neighbors=3, knn__weights=distance, pca__n_components=12;, score=0.420 total time=   0.2s\n",
      "[CV 2/5] END knn__n_neighbors=3, knn__weights=distance, pca__n_components=12;, score=0.431 total time=   0.2s\n",
      "[CV 3/5] END knn__n_neighbors=3, knn__weights=distance, pca__n_components=12;, score=0.409 total time=   0.2s\n",
      "[CV 4/5] END knn__n_neighbors=3, knn__weights=distance, pca__n_components=12;, score=0.448 total time=   0.2s\n",
      "[CV 5/5] END knn__n_neighbors=3, knn__weights=distance, pca__n_components=12;, score=0.434 total time=   0.2s\n",
      "[CV 1/5] END knn__n_neighbors=7, knn__weights=uniform, pca__n_components=9;, score=0.428 total time=   0.4s\n",
      "[CV 2/5] END knn__n_neighbors=7, knn__weights=uniform, pca__n_components=9;, score=0.445 total time=   0.4s\n",
      "[CV 3/5] END knn__n_neighbors=7, knn__weights=uniform, pca__n_components=9;, score=0.424 total time=   0.4s\n",
      "[CV 4/5] END knn__n_neighbors=7, knn__weights=uniform, pca__n_components=9;, score=0.438 total time=   0.5s\n",
      "[CV 5/5] END knn__n_neighbors=7, knn__weights=uniform, pca__n_components=9;, score=0.439 total time=   0.4s\n",
      "[CV 1/5] END knn__n_neighbors=1, knn__weights=distance, pca__n_components=3;, score=0.378 total time=   0.0s\n",
      "[CV 2/5] END knn__n_neighbors=1, knn__weights=distance, pca__n_components=3;, score=0.381 total time=   0.0s\n",
      "[CV 3/5] END knn__n_neighbors=1, knn__weights=distance, pca__n_components=3;, score=0.374 total time=   0.0s\n",
      "[CV 4/5] END knn__n_neighbors=1, knn__weights=distance, pca__n_components=3;, score=0.397 total time=   0.0s\n",
      "[CV 5/5] END knn__n_neighbors=1, knn__weights=distance, pca__n_components=3;, score=0.389 total time=   0.0s\n",
      "[CV 1/5] END knn__n_neighbors=3, knn__weights=distance, pca__n_components=3;, score=0.383 total time=   0.0s\n",
      "[CV 2/5] END knn__n_neighbors=3, knn__weights=distance, pca__n_components=3;, score=0.389 total time=   0.0s\n",
      "[CV 3/5] END knn__n_neighbors=3, knn__weights=distance, pca__n_components=3;, score=0.383 total time=   0.0s\n",
      "[CV 4/5] END knn__n_neighbors=3, knn__weights=distance, pca__n_components=3;, score=0.402 total time=   0.0s\n",
      "[CV 5/5] END knn__n_neighbors=3, knn__weights=distance, pca__n_components=3;, score=0.391 total time=   0.0s\n",
      "[CV 1/5] END knn__n_neighbors=9, knn__weights=distance, pca__n_components=6;, score=0.410 total time=   0.1s\n",
      "[CV 2/5] END knn__n_neighbors=9, knn__weights=distance, pca__n_components=6;, score=0.429 total time=   0.1s\n",
      "[CV 3/5] END knn__n_neighbors=9, knn__weights=distance, pca__n_components=6;, score=0.397 total time=   0.1s\n",
      "[CV 4/5] END knn__n_neighbors=9, knn__weights=distance, pca__n_components=6;, score=0.430 total time=   0.1s\n",
      "[CV 5/5] END knn__n_neighbors=9, knn__weights=distance, pca__n_components=6;, score=0.438 total time=   0.1s\n",
      "[CV 1/5] END knn__n_neighbors=7, knn__weights=uniform, pca__n_components=12;, score=0.443 total time=   0.6s\n",
      "[CV 2/5] END knn__n_neighbors=7, knn__weights=uniform, pca__n_components=12;, score=0.457 total time=   0.6s\n",
      "[CV 3/5] END knn__n_neighbors=7, knn__weights=uniform, pca__n_components=12;, score=0.448 total time=   0.6s\n",
      "[CV 4/5] END knn__n_neighbors=7, knn__weights=uniform, pca__n_components=12;, score=0.449 total time=   0.6s\n",
      "[CV 5/5] END knn__n_neighbors=7, knn__weights=uniform, pca__n_components=12;, score=0.453 total time=   0.6s\n",
      "[CV 1/5] END knn__n_neighbors=9, knn__weights=distance, pca__n_components=12;, score=0.447 total time=   0.4s\n",
      "[CV 2/5] END knn__n_neighbors=9, knn__weights=distance, pca__n_components=12;, score=0.466 total time=   0.4s\n",
      "[CV 3/5] END knn__n_neighbors=9, knn__weights=distance, pca__n_components=12;, score=0.438 total time=   0.4s\n",
      "[CV 4/5] END knn__n_neighbors=9, knn__weights=distance, pca__n_components=12;, score=0.451 total time=   0.4s\n",
      "[CV 5/5] END knn__n_neighbors=9, knn__weights=distance, pca__n_components=12;, score=0.446 total time=   0.4s\n",
      "[CV 1/5] END knn__n_neighbors=1, knn__weights=distance, pca__n_components=9;, score=0.423 total time=   0.1s\n",
      "[CV 2/5] END knn__n_neighbors=1, knn__weights=distance, pca__n_components=9;, score=0.412 total time=   0.1s\n",
      "[CV 3/5] END knn__n_neighbors=1, knn__weights=distance, pca__n_components=9;, score=0.391 total time=   0.1s\n",
      "[CV 4/5] END knn__n_neighbors=1, knn__weights=distance, pca__n_components=9;, score=0.416 total time=   0.1s\n",
      "[CV 5/5] END knn__n_neighbors=1, knn__weights=distance, pca__n_components=9;, score=0.415 total time=   0.1s\n"
     ]
    },
    {
     "data": {
      "text/html": [
       "<style>#sk-container-id-6 {color: black;background-color: white;}#sk-container-id-6 pre{padding: 0;}#sk-container-id-6 div.sk-toggleable {background-color: white;}#sk-container-id-6 label.sk-toggleable__label {cursor: pointer;display: block;width: 100%;margin-bottom: 0;padding: 0.3em;box-sizing: border-box;text-align: center;}#sk-container-id-6 label.sk-toggleable__label-arrow:before {content: \"▸\";float: left;margin-right: 0.25em;color: #696969;}#sk-container-id-6 label.sk-toggleable__label-arrow:hover:before {color: black;}#sk-container-id-6 div.sk-estimator:hover label.sk-toggleable__label-arrow:before {color: black;}#sk-container-id-6 div.sk-toggleable__content {max-height: 0;max-width: 0;overflow: hidden;text-align: left;background-color: #f0f8ff;}#sk-container-id-6 div.sk-toggleable__content pre {margin: 0.2em;color: black;border-radius: 0.25em;background-color: #f0f8ff;}#sk-container-id-6 input.sk-toggleable__control:checked~div.sk-toggleable__content {max-height: 200px;max-width: 100%;overflow: auto;}#sk-container-id-6 input.sk-toggleable__control:checked~label.sk-toggleable__label-arrow:before {content: \"▾\";}#sk-container-id-6 div.sk-estimator input.sk-toggleable__control:checked~label.sk-toggleable__label {background-color: #d4ebff;}#sk-container-id-6 div.sk-label input.sk-toggleable__control:checked~label.sk-toggleable__label {background-color: #d4ebff;}#sk-container-id-6 input.sk-hidden--visually {border: 0;clip: rect(1px 1px 1px 1px);clip: rect(1px, 1px, 1px, 1px);height: 1px;margin: -1px;overflow: hidden;padding: 0;position: absolute;width: 1px;}#sk-container-id-6 div.sk-estimator {font-family: monospace;background-color: #f0f8ff;border: 1px dotted black;border-radius: 0.25em;box-sizing: border-box;margin-bottom: 0.5em;}#sk-container-id-6 div.sk-estimator:hover {background-color: #d4ebff;}#sk-container-id-6 div.sk-parallel-item::after {content: \"\";width: 100%;border-bottom: 1px solid gray;flex-grow: 1;}#sk-container-id-6 div.sk-label:hover label.sk-toggleable__label {background-color: #d4ebff;}#sk-container-id-6 div.sk-serial::before {content: \"\";position: absolute;border-left: 1px solid gray;box-sizing: border-box;top: 0;bottom: 0;left: 50%;z-index: 0;}#sk-container-id-6 div.sk-serial {display: flex;flex-direction: column;align-items: center;background-color: white;padding-right: 0.2em;padding-left: 0.2em;position: relative;}#sk-container-id-6 div.sk-item {position: relative;z-index: 1;}#sk-container-id-6 div.sk-parallel {display: flex;align-items: stretch;justify-content: center;background-color: white;position: relative;}#sk-container-id-6 div.sk-item::before, #sk-container-id-6 div.sk-parallel-item::before {content: \"\";position: absolute;border-left: 1px solid gray;box-sizing: border-box;top: 0;bottom: 0;left: 50%;z-index: -1;}#sk-container-id-6 div.sk-parallel-item {display: flex;flex-direction: column;z-index: 1;position: relative;background-color: white;}#sk-container-id-6 div.sk-parallel-item:first-child::after {align-self: flex-end;width: 50%;}#sk-container-id-6 div.sk-parallel-item:last-child::after {align-self: flex-start;width: 50%;}#sk-container-id-6 div.sk-parallel-item:only-child::after {width: 0;}#sk-container-id-6 div.sk-dashed-wrapped {border: 1px dashed gray;margin: 0 0.4em 0.5em 0.4em;box-sizing: border-box;padding-bottom: 0.4em;background-color: white;}#sk-container-id-6 div.sk-label label {font-family: monospace;font-weight: bold;display: inline-block;line-height: 1.2em;}#sk-container-id-6 div.sk-label-container {text-align: center;}#sk-container-id-6 div.sk-container {/* jupyter's `normalize.less` sets `[hidden] { display: none; }` but bootstrap.min.css set `[hidden] { display: none !important; }` so we also need the `!important` here to be able to override the default hidden behavior on the sphinx rendered scikit-learn.org. See: https://github.com/scikit-learn/scikit-learn/issues/21755 */display: inline-block !important;position: relative;}#sk-container-id-6 div.sk-text-repr-fallback {display: none;}</style><div id=\"sk-container-id-6\" class=\"sk-top-container\"><div class=\"sk-text-repr-fallback\"><pre>RandomizedSearchCV(estimator=Pipeline(steps=[(&#x27;scaler&#x27;, StandardScaler()),\n",
       "                                             (&#x27;pca&#x27;, PCA(random_state=42)),\n",
       "                                             (&#x27;knn&#x27;, KNeighborsClassifier())]),\n",
       "                   param_distributions={&#x27;knn__n_neighbors&#x27;: [1, 3, 5, 7, 9],\n",
       "                                        &#x27;knn__weights&#x27;: [&#x27;uniform&#x27;, &#x27;distance&#x27;],\n",
       "                                        &#x27;pca__n_components&#x27;: [3, 6, 9, 12]},\n",
       "                   random_state=42, scoring=&#x27;f1&#x27;, verbose=3)</pre><b>In a Jupyter environment, please rerun this cell to show the HTML representation or trust the notebook. <br />On GitHub, the HTML representation is unable to render, please try loading this page with nbviewer.org.</b></div><div class=\"sk-container\" hidden><div class=\"sk-item sk-dashed-wrapped\"><div class=\"sk-label-container\"><div class=\"sk-label sk-toggleable\"><input class=\"sk-toggleable__control sk-hidden--visually\" id=\"sk-estimator-id-12\" type=\"checkbox\" ><label for=\"sk-estimator-id-12\" class=\"sk-toggleable__label sk-toggleable__label-arrow\">RandomizedSearchCV</label><div class=\"sk-toggleable__content\"><pre>RandomizedSearchCV(estimator=Pipeline(steps=[(&#x27;scaler&#x27;, StandardScaler()),\n",
       "                                             (&#x27;pca&#x27;, PCA(random_state=42)),\n",
       "                                             (&#x27;knn&#x27;, KNeighborsClassifier())]),\n",
       "                   param_distributions={&#x27;knn__n_neighbors&#x27;: [1, 3, 5, 7, 9],\n",
       "                                        &#x27;knn__weights&#x27;: [&#x27;uniform&#x27;, &#x27;distance&#x27;],\n",
       "                                        &#x27;pca__n_components&#x27;: [3, 6, 9, 12]},\n",
       "                   random_state=42, scoring=&#x27;f1&#x27;, verbose=3)</pre></div></div></div><div class=\"sk-parallel\"><div class=\"sk-parallel-item\"><div class=\"sk-item\"><div class=\"sk-label-container\"><div class=\"sk-label sk-toggleable\"><input class=\"sk-toggleable__control sk-hidden--visually\" id=\"sk-estimator-id-13\" type=\"checkbox\" ><label for=\"sk-estimator-id-13\" class=\"sk-toggleable__label sk-toggleable__label-arrow\">estimator: Pipeline</label><div class=\"sk-toggleable__content\"><pre>Pipeline(steps=[(&#x27;scaler&#x27;, StandardScaler()), (&#x27;pca&#x27;, PCA(random_state=42)),\n",
       "                (&#x27;knn&#x27;, KNeighborsClassifier())])</pre></div></div></div><div class=\"sk-serial\"><div class=\"sk-item\"><div class=\"sk-serial\"><div class=\"sk-item\"><div class=\"sk-estimator sk-toggleable\"><input class=\"sk-toggleable__control sk-hidden--visually\" id=\"sk-estimator-id-14\" type=\"checkbox\" ><label for=\"sk-estimator-id-14\" class=\"sk-toggleable__label sk-toggleable__label-arrow\">StandardScaler</label><div class=\"sk-toggleable__content\"><pre>StandardScaler()</pre></div></div></div><div class=\"sk-item\"><div class=\"sk-estimator sk-toggleable\"><input class=\"sk-toggleable__control sk-hidden--visually\" id=\"sk-estimator-id-15\" type=\"checkbox\" ><label for=\"sk-estimator-id-15\" class=\"sk-toggleable__label sk-toggleable__label-arrow\">PCA</label><div class=\"sk-toggleable__content\"><pre>PCA(random_state=42)</pre></div></div></div><div class=\"sk-item\"><div class=\"sk-estimator sk-toggleable\"><input class=\"sk-toggleable__control sk-hidden--visually\" id=\"sk-estimator-id-16\" type=\"checkbox\" ><label for=\"sk-estimator-id-16\" class=\"sk-toggleable__label sk-toggleable__label-arrow\">KNeighborsClassifier</label><div class=\"sk-toggleable__content\"><pre>KNeighborsClassifier()</pre></div></div></div></div></div></div></div></div></div></div></div></div>"
      ],
      "text/plain": [
       "RandomizedSearchCV(estimator=Pipeline(steps=[('scaler', StandardScaler()),\n",
       "                                             ('pca', PCA(random_state=42)),\n",
       "                                             ('knn', KNeighborsClassifier())]),\n",
       "                   param_distributions={'knn__n_neighbors': [1, 3, 5, 7, 9],\n",
       "                                        'knn__weights': ['uniform', 'distance'],\n",
       "                                        'pca__n_components': [3, 6, 9, 12]},\n",
       "                   random_state=42, scoring='f1', verbose=3)"
      ]
     },
     "execution_count": 74,
     "metadata": {},
     "output_type": "execute_result"
    }
   ],
   "source": [
    "search.fit(X_train,y_train)"
   ]
  },
  {
   "cell_type": "code",
   "execution_count": 75,
   "id": "92f4fa97",
   "metadata": {},
   "outputs": [
    {
     "data": {
      "text/plain": [
       "0.45012200512057793"
      ]
     },
     "execution_count": 75,
     "metadata": {},
     "output_type": "execute_result"
    }
   ],
   "source": [
    "search.best_score_"
   ]
  },
  {
   "cell_type": "code",
   "execution_count": 76,
   "id": "afc2cb2d",
   "metadata": {},
   "outputs": [],
   "source": [
    "def correct_percent(actual, predicted):\n",
    "    total = actual.sum()\n",
    "    return round((actual & predicted).sum()/total*100, 2)"
   ]
  },
  {
   "cell_type": "code",
   "execution_count": 77,
   "id": "89e93e69",
   "metadata": {},
   "outputs": [
    {
     "name": "stdout",
     "output_type": "stream",
     "text": [
      "The test set actually contained 2360 active members, out of 10000.\n",
      "The best tree, according to grid search, predicted 1517 active members, of which 38.47% were correct.\n",
      "A more interpretable tree predicted 1610 active members, of which 34.83% were correct.\n",
      "K nearest neighbors with 5 neighbors predicted 1890 active members, of which 39.36% were correct.\n"
     ]
    }
   ],
   "source": [
    "print(f\"The test set actually contained {y_test.sum()} active members, out of 10000.\")\n",
    "print(f\"The best tree, according to grid search, predicted {tree_predictions.sum()} active members, \\\n",
    "of which {correct_percent(y_test, tree_predictions)}% were correct.\")\n",
    "print(f\"A more interpretable tree predicted {interp_predictions.sum()} active members, \\\n",
    "of which {correct_percent(y_test, interp_predictions)}% were correct.\")\n",
    "print(f\"K nearest neighbors with 5 neighbors predicted {knn_predictions.sum()} active members, \\\n",
    "of which {correct_percent(y_test, knn_predictions)}% were correct.\")"
   ]
  },
  {
   "cell_type": "code",
   "execution_count": null,
   "id": "c391189c",
   "metadata": {},
   "outputs": [],
   "source": []
  }
 ],
 "metadata": {
  "kernelspec": {
   "display_name": "Python 3 (ipykernel)",
   "language": "python",
   "name": "python3"
  },
  "language_info": {
   "codemirror_mode": {
    "name": "ipython",
    "version": 3
   },
   "file_extension": ".py",
   "mimetype": "text/x-python",
   "name": "python",
   "nbconvert_exporter": "python",
   "pygments_lexer": "ipython3",
   "version": "3.11.5"
  }
 },
 "nbformat": 4,
 "nbformat_minor": 5
}
